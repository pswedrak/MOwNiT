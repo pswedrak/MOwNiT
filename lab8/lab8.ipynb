{
 "cells": [
  {
   "cell_type": "code",
   "execution_count": 1,
   "metadata": {},
   "outputs": [],
   "source": [
    "using QuadGK\n",
    "using Polynomials"
   ]
  },
  {
   "cell_type": "code",
   "execution_count": 2,
   "metadata": {},
   "outputs": [],
   "source": [
    "using Plots"
   ]
  },
  {
   "cell_type": "code",
   "execution_count": 3,
   "metadata": {},
   "outputs": [
    {
     "data": {
      "text/plain": [
       "([-0.949108, -0.741531, -0.405845, 0.0, 0.405845, 0.741531, 0.949108], [0.129485, 0.279705, 0.38183, 0.417959, 0.38183, 0.279705, 0.129485])"
      ]
     },
     "execution_count": 3,
     "metadata": {},
     "output_type": "execute_result"
    }
   ],
   "source": [
    "(xp,a)=gauss(Float64,7)"
   ]
  },
  {
   "cell_type": "code",
   "execution_count": 4,
   "metadata": {},
   "outputs": [
    {
     "data": {
      "text/html": [
       "0.6666666666666669"
      ],
      "text/plain": [
       "0.6666666666666669"
      ]
     },
     "execution_count": 4,
     "metadata": {},
     "output_type": "execute_result"
    }
   ],
   "source": [
    "f(x) = x^2\n",
    "sum(a .* f.(xp))"
   ]
  },
  {
   "cell_type": "markdown",
   "metadata": {},
   "source": [
    "Zadanie 1."
   ]
  },
  {
   "cell_type": "code",
   "execution_count": 109,
   "metadata": {},
   "outputs": [
    {
     "data": {
      "text/plain": [
       "legendre (generic function with 1 method)"
      ]
     },
     "execution_count": 109,
     "metadata": {},
     "output_type": "execute_result"
    }
   ],
   "source": [
    "function legendre(n)\n",
    "    if n == 0\n",
    "        return Poly([1])\n",
    "    elseif n == 1\n",
    "        return Poly([0, 1])\n",
    "    else\n",
    "        return (2*n - 1)/n*Poly([0, 1])*legendre(n-1)-(n-1)/(n)*legendre(n-2)\n",
    "    end\n",
    "    \n",
    "end"
   ]
  },
  {
   "cell_type": "code",
   "execution_count": 147,
   "metadata": {},
   "outputs": [
    {
     "data": {
      "image/svg+xml": [
       "<?xml version=\"1.0\" encoding=\"utf-8\"?>\n",
       "<svg xmlns=\"http://www.w3.org/2000/svg\" xmlns:xlink=\"http://www.w3.org/1999/xlink\" width=\"750\" height=\"750\" viewBox=\"0 0 3000 3000\">\n",
       "<defs>\n",
       "  <clipPath id=\"clip7000\">\n",
       "    <rect x=\"0\" y=\"0\" width=\"2000\" height=\"2000\"/>\n",
       "  </clipPath>\n",
       "</defs>\n",
       "<defs>\n",
       "  <clipPath id=\"clip7001\">\n",
       "    <rect x=\"0\" y=\"0\" width=\"3000\" height=\"3000\"/>\n",
       "  </clipPath>\n",
       "</defs>\n",
       "<polygon clip-path=\"url(#clip7001)\" points=\"\n",
       "0,3000 3000,3000 3000,0 0,0 \n",
       "  \" fill=\"#ffffff\" fill-rule=\"evenodd\" fill-opacity=\"1\"/>\n",
       "<defs>\n",
       "  <clipPath id=\"clip7002\">\n",
       "    <rect x=\"600\" y=\"300\" width=\"2101\" height=\"2101\"/>\n",
       "  </clipPath>\n",
       "</defs>\n",
       "<polygon clip-path=\"url(#clip7001)\" points=\"\n",
       "136.453,2924.52 2980.31,2924.52 2980.31,11.811 136.453,11.811 \n",
       "  \" fill=\"#ffffff\" fill-rule=\"evenodd\" fill-opacity=\"1\"/>\n",
       "<defs>\n",
       "  <clipPath id=\"clip7003\">\n",
       "    <rect x=\"136\" y=\"11\" width=\"2845\" height=\"2914\"/>\n",
       "  </clipPath>\n",
       "</defs>\n",
       "<polyline clip-path=\"url(#clip7003)\" style=\"stroke:#000000; stroke-width:0.5; stroke-opacity:0.1; fill:none\" points=\"\n",
       "  210.353,2924.52 210.353,11.811 \n",
       "  \"/>\n",
       "<polyline clip-path=\"url(#clip7003)\" style=\"stroke:#000000; stroke-width:0.5; stroke-opacity:0.1; fill:none\" points=\"\n",
       "  884.865,2924.52 884.865,11.811 \n",
       "  \"/>\n",
       "<polyline clip-path=\"url(#clip7003)\" style=\"stroke:#000000; stroke-width:0.5; stroke-opacity:0.1; fill:none\" points=\"\n",
       "  1559.38,2924.52 1559.38,11.811 \n",
       "  \"/>\n",
       "<polyline clip-path=\"url(#clip7003)\" style=\"stroke:#000000; stroke-width:0.5; stroke-opacity:0.1; fill:none\" points=\"\n",
       "  2233.89,2924.52 2233.89,11.811 \n",
       "  \"/>\n",
       "<polyline clip-path=\"url(#clip7003)\" style=\"stroke:#000000; stroke-width:0.5; stroke-opacity:0.1; fill:none\" points=\"\n",
       "  2908.4,2924.52 2908.4,11.811 \n",
       "  \"/>\n",
       "<polyline clip-path=\"url(#clip7003)\" style=\"stroke:#000000; stroke-width:0.5; stroke-opacity:0.1; fill:none\" points=\"\n",
       "  136.453,2869.19 2980.31,2869.19 \n",
       "  \"/>\n",
       "<polyline clip-path=\"url(#clip7003)\" style=\"stroke:#000000; stroke-width:0.5; stroke-opacity:0.1; fill:none\" points=\"\n",
       "  136.453,2175.45 2980.31,2175.45 \n",
       "  \"/>\n",
       "<polyline clip-path=\"url(#clip7003)\" style=\"stroke:#000000; stroke-width:0.5; stroke-opacity:0.1; fill:none\" points=\"\n",
       "  136.453,1481.72 2980.31,1481.72 \n",
       "  \"/>\n",
       "<polyline clip-path=\"url(#clip7003)\" style=\"stroke:#000000; stroke-width:0.5; stroke-opacity:0.1; fill:none\" points=\"\n",
       "  136.453,787.981 2980.31,787.981 \n",
       "  \"/>\n",
       "<polyline clip-path=\"url(#clip7003)\" style=\"stroke:#000000; stroke-width:0.5; stroke-opacity:0.1; fill:none\" points=\"\n",
       "  136.453,94.2462 2980.31,94.2462 \n",
       "  \"/>\n",
       "<polyline clip-path=\"url(#clip7001)\" style=\"stroke:#000000; stroke-width:1; stroke-opacity:1; fill:none\" points=\"\n",
       "  136.453,2924.52 2980.31,2924.52 \n",
       "  \"/>\n",
       "<polyline clip-path=\"url(#clip7001)\" style=\"stroke:#000000; stroke-width:1; stroke-opacity:1; fill:none\" points=\"\n",
       "  136.453,2924.52 136.453,11.811 \n",
       "  \"/>\n",
       "<polyline clip-path=\"url(#clip7001)\" style=\"stroke:#000000; stroke-width:1; stroke-opacity:1; fill:none\" points=\"\n",
       "  210.353,2924.52 210.353,2880.83 \n",
       "  \"/>\n",
       "<polyline clip-path=\"url(#clip7001)\" style=\"stroke:#000000; stroke-width:1; stroke-opacity:1; fill:none\" points=\"\n",
       "  884.865,2924.52 884.865,2880.83 \n",
       "  \"/>\n",
       "<polyline clip-path=\"url(#clip7001)\" style=\"stroke:#000000; stroke-width:1; stroke-opacity:1; fill:none\" points=\"\n",
       "  1559.38,2924.52 1559.38,2880.83 \n",
       "  \"/>\n",
       "<polyline clip-path=\"url(#clip7001)\" style=\"stroke:#000000; stroke-width:1; stroke-opacity:1; fill:none\" points=\"\n",
       "  2233.89,2924.52 2233.89,2880.83 \n",
       "  \"/>\n",
       "<polyline clip-path=\"url(#clip7001)\" style=\"stroke:#000000; stroke-width:1; stroke-opacity:1; fill:none\" points=\"\n",
       "  2908.4,2924.52 2908.4,2880.83 \n",
       "  \"/>\n",
       "<polyline clip-path=\"url(#clip7001)\" style=\"stroke:#000000; stroke-width:1; stroke-opacity:1; fill:none\" points=\"\n",
       "  136.453,2869.19 179.111,2869.19 \n",
       "  \"/>\n",
       "<polyline clip-path=\"url(#clip7001)\" style=\"stroke:#000000; stroke-width:1; stroke-opacity:1; fill:none\" points=\"\n",
       "  136.453,2175.45 179.111,2175.45 \n",
       "  \"/>\n",
       "<polyline clip-path=\"url(#clip7001)\" style=\"stroke:#000000; stroke-width:1; stroke-opacity:1; fill:none\" points=\"\n",
       "  136.453,1481.72 179.111,1481.72 \n",
       "  \"/>\n",
       "<polyline clip-path=\"url(#clip7001)\" style=\"stroke:#000000; stroke-width:1; stroke-opacity:1; fill:none\" points=\"\n",
       "  136.453,787.981 179.111,787.981 \n",
       "  \"/>\n",
       "<polyline clip-path=\"url(#clip7001)\" style=\"stroke:#000000; stroke-width:1; stroke-opacity:1; fill:none\" points=\"\n",
       "  136.453,94.2462 179.111,94.2462 \n",
       "  \"/>\n",
       "<g clip-path=\"url(#clip7001)\">\n",
       "<text style=\"fill:#000000; fill-opacity:1; font-family:Arial,Helvetica Neue,Helvetica,sans-serif; font-size:56px; text-anchor:middle;\" transform=\"rotate(0, 210.353, 2988.72)\" x=\"210.353\" y=\"2988.72\">-1.0</text>\n",
       "</g>\n",
       "<g clip-path=\"url(#clip7001)\">\n",
       "<text style=\"fill:#000000; fill-opacity:1; font-family:Arial,Helvetica Neue,Helvetica,sans-serif; font-size:56px; text-anchor:middle;\" transform=\"rotate(0, 884.865, 2988.72)\" x=\"884.865\" y=\"2988.72\">-0.5</text>\n",
       "</g>\n",
       "<g clip-path=\"url(#clip7001)\">\n",
       "<text style=\"fill:#000000; fill-opacity:1; font-family:Arial,Helvetica Neue,Helvetica,sans-serif; font-size:56px; text-anchor:middle;\" transform=\"rotate(0, 1559.38, 2988.72)\" x=\"1559.38\" y=\"2988.72\">0.0</text>\n",
       "</g>\n",
       "<g clip-path=\"url(#clip7001)\">\n",
       "<text style=\"fill:#000000; fill-opacity:1; font-family:Arial,Helvetica Neue,Helvetica,sans-serif; font-size:56px; text-anchor:middle;\" transform=\"rotate(0, 2233.89, 2988.72)\" x=\"2233.89\" y=\"2988.72\">0.5</text>\n",
       "</g>\n",
       "<g clip-path=\"url(#clip7001)\">\n",
       "<text style=\"fill:#000000; fill-opacity:1; font-family:Arial,Helvetica Neue,Helvetica,sans-serif; font-size:56px; text-anchor:middle;\" transform=\"rotate(0, 2908.4, 2988.72)\" x=\"2908.4\" y=\"2988.72\">1.0</text>\n",
       "</g>\n",
       "<g clip-path=\"url(#clip7001)\">\n",
       "<text style=\"fill:#000000; fill-opacity:1; font-family:Arial,Helvetica Neue,Helvetica,sans-serif; font-size:56px; text-anchor:end;\" transform=\"rotate(0, 106.453, 2889.69)\" x=\"106.453\" y=\"2889.69\">-1.0</text>\n",
       "</g>\n",
       "<g clip-path=\"url(#clip7001)\">\n",
       "<text style=\"fill:#000000; fill-opacity:1; font-family:Arial,Helvetica Neue,Helvetica,sans-serif; font-size:56px; text-anchor:end;\" transform=\"rotate(0, 106.453, 2195.95)\" x=\"106.453\" y=\"2195.95\">-0.5</text>\n",
       "</g>\n",
       "<g clip-path=\"url(#clip7001)\">\n",
       "<text style=\"fill:#000000; fill-opacity:1; font-family:Arial,Helvetica Neue,Helvetica,sans-serif; font-size:56px; text-anchor:end;\" transform=\"rotate(0, 106.453, 1502.22)\" x=\"106.453\" y=\"1502.22\">0.0</text>\n",
       "</g>\n",
       "<g clip-path=\"url(#clip7001)\">\n",
       "<text style=\"fill:#000000; fill-opacity:1; font-family:Arial,Helvetica Neue,Helvetica,sans-serif; font-size:56px; text-anchor:end;\" transform=\"rotate(0, 106.453, 808.481)\" x=\"106.453\" y=\"808.481\">0.5</text>\n",
       "</g>\n",
       "<g clip-path=\"url(#clip7001)\">\n",
       "<text style=\"fill:#000000; fill-opacity:1; font-family:Arial,Helvetica Neue,Helvetica,sans-serif; font-size:56px; text-anchor:end;\" transform=\"rotate(0, 106.453, 114.746)\" x=\"106.453\" y=\"114.746\">1.0</text>\n",
       "</g>\n",
       "<polyline clip-path=\"url(#clip7003)\" style=\"stroke:#009af9; stroke-width:1; stroke-opacity:1; fill:none\" points=\"\n",
       "  236.702,94.2462 480.333,94.2462 626.745,94.2462 750.535,94.2462 885.005,94.2462 1008.97,94.2462 1141.88,94.2462 1295.87,94.2462 1432.72,94.2462 1552.72,94.2462 \n",
       "  1683.55,94.2462 1815.16,94.2462 1960.68,94.2462 2099.13,94.2462 2243.09,94.2462 2364.27,94.2462 2512.22,94.2462 2651.3,94.2462 2874.11,94.2462 \n",
       "  \"/>\n",
       "<polyline clip-path=\"url(#clip7003)\" style=\"stroke:#e26f46; stroke-width:1; stroke-opacity:1; fill:none\" points=\"\n",
       "  236.702,2842.09 480.333,2591.51 626.745,2440.93 750.535,2313.61 885.005,2175.31 1008.97,2047.8 1141.88,1911.11 1295.87,1752.73 1432.72,1611.99 1552.72,1488.56 \n",
       "  1683.55,1354 1815.16,1218.64 1960.68,1068.98 2099.13,926.58 2243.09,778.519 2364.27,653.883 2512.22,501.716 2651.3,358.676 2874.11,129.513 \n",
       "  \"/>\n",
       "<polyline clip-path=\"url(#clip7003)\" style=\"stroke:#3da44d; stroke-width:1; stroke-opacity:1; fill:none\" points=\"\n",
       "  216.94,114.521 223.527,134.697 230.114,154.774 236.702,174.751 297.609,354.769 358.517,526.302 419.425,689.349 480.333,843.912 553.539,1018.46 626.745,1180.74 \n",
       "  688.64,1308.39 750.535,1427.28 817.77,1546.49 885.005,1655.37 946.99,1746.58 1008.97,1829 1075.43,1907.61 1141.88,1976.12 1218.88,2042.86 1295.87,2096.04 \n",
       "  1364.29,2131.93 1432.72,2157.1 1492.72,2170.37 1552.72,2175.4 1618.14,2171.5 1683.55,2157.82 1749.36,2134.17 1815.16,2100.63 1887.92,2052.01 1960.68,1991.28 \n",
       "  2029.9,1922.26 2099.13,1842.28 2171.11,1747.49 2243.09,1640.86 2303.68,1541.91 2364.27,1434.56 2438.25,1292.12 2512.22,1137.16 2581.76,980.08 2651.3,811.941 \n",
       "  2707,669.276 2762.7,519.515 2818.41,362.658 2874.11,198.703 2882.68,172.841 2891.26,146.811 2899.83,120.612 \n",
       "  \"/>\n",
       "<polyline clip-path=\"url(#clip7003)\" style=\"stroke:#c271d2; stroke-width:1; stroke-opacity:1; fill:none\" points=\"\n",
       "  216.94,2828.78 223.527,2788.88 230.114,2749.46 236.702,2710.53 267.156,2536.85 297.609,2373.32 328.063,2219.72 358.517,2075.79 388.971,1941.31 419.425,1816.03 \n",
       "  449.879,1699.71 480.333,1592.12 516.936,1474 553.539,1367.73 590.142,1272.88 626.745,1189.03 657.693,1126.43 688.64,1071.14 719.587,1022.92 750.535,981.522 \n",
       "  784.152,943.984 817.77,913.873 851.388,890.867 885.005,874.644 915.998,865.419 946.99,861.433 977.982,862.433 1008.97,868.167 1042.2,879.287 1075.43,895.246 \n",
       "  1108.66,915.735 1141.88,940.443 1180.38,973.934 1218.88,1012.19 1257.37,1054.72 1295.87,1101.04 1432.72,1289.18 1552.72,1471.44 1683.55,1670.58 1815.16,1852.69 \n",
       "  1851.54,1897.22 1887.92,1938.47 1924.3,1976.04 1960.68,2009.51 1995.29,2037.19 2029.9,2060.44 2064.52,2078.91 2099.13,2092.25 2135.12,2100.3 2171.11,2102.03 \n",
       "  2207.1,2097.04 2243.09,2084.94 2273.38,2068.95 2303.68,2047.41 2333.98,2020.08 2364.27,1986.71 2401.26,1937.47 2438.25,1878.46 2475.23,1809.26 2512.22,1729.44 \n",
       "  2546.99,1644.33 2581.76,1549.11 2616.53,1443.4 2651.3,1326.86 2679.15,1225.46 2707,1116.69 2734.85,1000.37 2762.7,876.327 2790.56,744.368 2818.41,604.313 \n",
       "  2846.26,455.979 2874.11,299.182 2882.68,249.19 2891.26,198.374 2899.83,146.728 \n",
       "  \"/>\n",
       "<polyline clip-path=\"url(#clip7003)\" style=\"stroke:#ac8d18; stroke-width:1; stroke-opacity:1; fill:none\" points=\"\n",
       "  216.94,161.254 223.527,226.789 230.114,290.87 236.702,353.513 251.929,492.905 267.156,624.905 282.382,749.716 297.609,867.537 312.836,978.564 328.063,1082.99 \n",
       "  343.29,1181.02 358.517,1272.82 373.744,1358.6 388.971,1438.54 404.198,1512.81 419.425,1581.61 434.652,1645.1 449.879,1703.47 465.106,1756.89 480.333,1805.53 \n",
       "  498.634,1857.9 516.936,1903.89 535.237,1943.8 553.539,1977.89 571.841,2006.45 590.142,2029.73 608.444,2048.01 626.745,2061.55 657.693,2074.34 688.64,2075.48 \n",
       "  719.587,2066.12 750.535,2047.38 784.152,2017.64 817.77,1979.42 851.388,1933.99 885.005,1882.56 946.99,1775.83 1008.97,1659.32 1075.43,1530.48 1141.88,1404.06 \n",
       "  1218.88,1268.25 1295.87,1151.09 1330.08,1106.66 1364.29,1067.57 1398.51,1034.18 1432.72,1006.81 1462.72,987.966 1492.72,974.082 1522.72,965.253 1552.72,961.541 \n",
       "  1585.43,963.354 1618.14,971.264 1650.84,985.206 1683.55,1005.06 1716.46,1030.84 1749.36,1062.22 1782.26,1098.92 1815.16,1140.63 1887.92,1248.67 1960.68,1374.3 \n",
       "  2029.9,1504.55 2099.13,1638.78 2171.11,1774.64 2243.09,1897.38 2273.38,1942.6 2303.68,1982.77 2333.98,2017 2364.27,2044.37 2401.26,2067.06 2438.25,2076.24 \n",
       "  2475.23,2070 2512.22,2046.33 2529.61,2028.6 2546.99,2006.34 2564.38,1979.32 2581.76,1947.32 2599.14,1910.1 2616.53,1867.42 2633.91,1819.03 2651.3,1764.7 \n",
       "  2665.22,1716.73 2679.15,1664.64 2693.08,1608.31 2707,1547.62 2720.93,1482.41 2734.85,1412.56 2748.78,1337.92 2762.7,1258.36 2776.63,1173.73 2790.56,1083.88 \n",
       "  2804.48,988.686 2818.41,887.985 2832.33,781.631 2846.26,669.475 2860.19,551.363 2874.11,427.144 2882.68,347.571 2891.26,265.589 2899.83,181.16 \n",
       "  \"/>\n",
       "<polyline clip-path=\"url(#clip7003)\" style=\"stroke:#00a9ad; stroke-width:1; stroke-opacity:1; fill:none\" points=\"\n",
       "  216.94,2769.29 223.527,2672.8 230.114,2579.64 236.702,2489.76 251.929,2294.17 267.156,2114.93 282.382,1951.27 297.609,1802.45 312.836,1667.72 328.063,1546.39 \n",
       "  343.29,1437.76 358.517,1341.16 373.744,1255.94 388.971,1181.47 404.198,1117.13 419.425,1062.32 434.652,1016.47 449.879,979.026 465.106,949.435 480.333,927.178 \n",
       "  498.634,909.415 516.936,900.666 535.237,900.118 553.539,906.993 571.841,920.546 590.142,940.065 608.444,964.871 626.745,994.316 657.693,1052.95 688.64,1120.33 \n",
       "  719.587,1193.91 750.535,1271.39 817.77,1443.5 885.005,1606.69 915.998,1675.06 946.99,1737.62 977.982,1793.53 1008.97,1842.12 1042.2,1885.49 1075.43,1919.41 \n",
       "  1108.66,1943.6 1141.88,1957.99 1180.38,1962.51 1218.88,1954.32 1257.37,1934.04 1295.87,1902.5 1330.08,1865.83 1364.29,1821.9 1398.51,1771.62 1432.72,1716 \n",
       "  1492.72,1608.8 1552.72,1494.55 1618.14,1369.4 1683.55,1251.65 1716.46,1197.73 1749.36,1148.65 1782.26,1105.31 1815.16,1068.53 1851.54,1036.41 1887.92,1014.15 \n",
       "  1924.3,1002.47 1960.68,1001.96 1995.29,1012.21 2029.9,1033.07 2064.52,1064.55 2099.13,1106.41 2135.12,1160.48 2171.11,1224.56 2207.1,1297.62 2243.09,1378.34 \n",
       "  2303.68,1526.77 2364.27,1681.99 2401.26,1774.64 2438.25,1861.51 2475.23,1938.58 2512.22,2001.38 2529.61,2024.57 2546.99,2042.96 2564.38,2055.96 2581.76,2062.96 \n",
       "  2599.14,2063.34 2616.53,2056.42 2633.91,2041.51 2651.3,2017.9 2665.22,1992.2 2679.15,1960.03 2693.08,1920.99 2707,1874.65 2720.93,1820.57 2734.85,1758.32 \n",
       "  2748.78,1687.42 2762.7,1607.4 2776.63,1517.78 2790.56,1418.05 2804.48,1307.71 2818.41,1186.22 2832.33,1053.04 2846.26,907.618 2860.19,749.387 2874.11,577.762 \n",
       "  2882.68,465.194 2891.26,347.182 2899.83,223.581 \n",
       "  \"/>\n",
       "<polyline clip-path=\"url(#clip7003)\" style=\"stroke:#ed5d92; stroke-width:1; stroke-opacity:1; fill:none\" points=\"\n",
       "  216.94,233.079 223.527,365.166 230.114,490.706 236.702,609.892 244.315,739.983 251.929,862.129 259.542,976.614 267.156,1083.71 274.769,1183.7 282.382,1276.83 \n",
       "  289.996,1363.36 297.609,1443.56 305.223,1517.66 312.836,1585.9 320.45,1648.53 328.063,1705.76 335.677,1757.82 343.29,1804.94 350.904,1847.32 358.517,1885.17 \n",
       "  366.131,1918.7 373.744,1948.09 381.358,1973.56 388.971,1995.27 404.198,2028.17 419.425,2048.2 434.652,2056.68 449.879,2054.88 465.106,2043.97 480.333,2025.06 \n",
       "  498.634,1993.23 516.936,1953.07 535.237,1906.12 553.539,1853.85 590.142,1738.5 626.745,1616.28 657.693,1513.27 688.64,1414.55 719.587,1323.18 750.535,1241.53 \n",
       "  767.344,1201.91 784.152,1165.92 800.961,1133.73 817.77,1105.48 834.579,1081.25 851.388,1061.11 868.196,1045.08 885.005,1033.14 915.998,1021.74 946.99,1023.65 \n",
       "  977.982,1038.11 1008.97,1064.13 1042.2,1103.53 1075.43,1153.22 1108.66,1211.41 1141.88,1276.2 1218.88,1440.91 1295.87,1606.55 1330.08,1674.56 1364.29,1736.65 \n",
       "  1398.51,1791.28 1432.72,1837.14 1462.72,1869.27 1492.72,1893.23 1522.72,1908.59 1552.72,1915.08 1585.43,1911.91 1618.14,1898.12 1650.84,1874.02 1683.55,1840.1 \n",
       "  1716.46,1796.82 1749.36,1745.3 1782.26,1686.7 1815.16,1622.33 1887.92,1467.16 1960.68,1309.58 1995.29,1239.58 2029.9,1175.8 2064.52,1120.43 2099.13,1075.53 \n",
       "  2135.12,1042.02 2171.11,1023.83 2189.1,1020.98 2207.1,1022.52 2225.09,1028.59 2243.09,1039.27 2273.38,1067.85 2303.68,1109.74 2333.98,1164.66 2364.27,1231.91 \n",
       "  2401.26,1329.07 2438.25,1439.89 2475.23,1560.12 2512.22,1684.13 2546.99,1797.81 2581.76,1901.31 2599.14,1946.59 2616.53,1985.96 2633.91,2018.09 2651.3,2041.55 \n",
       "  2665.22,2053.05 2679.15,2057.17 2693.08,2053.01 2707,2039.63 2720.93,2016.05 2734.85,1981.22 2748.78,1934.04 2762.7,1873.38 2769.67,1837.62 2776.63,1798.03 \n",
       "  2783.59,1754.45 2790.56,1706.72 2797.52,1654.67 2804.48,1598.13 2811.44,1536.93 2818.41,1470.88 2825.37,1399.81 2832.33,1323.53 2839.3,1241.84 2846.26,1154.55 \n",
       "  2853.22,1061.47 2860.19,962.393 2867.15,857.107 2874.11,745.402 2882.68,598.74 2891.26,441.61 2899.83,273.59 \n",
       "  \"/>\n",
       "<polygon clip-path=\"url(#clip7001)\" points=\"\n",
       "2320.24,694.551 2890.31,694.551 2890.31,119.991 2320.24,119.991 \n",
       "  \" fill=\"#ffffff\" fill-rule=\"evenodd\" fill-opacity=\"1\"/>\n",
       "<polyline clip-path=\"url(#clip7001)\" style=\"stroke:#000000; stroke-width:1; stroke-opacity:1; fill:none\" points=\"\n",
       "  2320.24,694.551 2890.31,694.551 2890.31,119.991 2320.24,119.991 2320.24,694.551 \n",
       "  \"/>\n",
       "<polyline clip-path=\"url(#clip7001)\" style=\"stroke:#009af9; stroke-width:1; stroke-opacity:1; fill:none\" points=\"\n",
       "  2350.24,191.811 2530.24,191.811 \n",
       "  \"/>\n",
       "<g clip-path=\"url(#clip7001)\">\n",
       "<text style=\"fill:#000000; fill-opacity:1; font-family:Arial,Helvetica Neue,Helvetica,sans-serif; font-size:56px; text-anchor:start;\" transform=\"rotate(0, 2560.24, 212.311)\" x=\"2560.24\" y=\"212.311\">legendre 0</text>\n",
       "</g>\n",
       "<polyline clip-path=\"url(#clip7001)\" style=\"stroke:#e26f46; stroke-width:1; stroke-opacity:1; fill:none\" points=\"\n",
       "  2350.24,263.631 2530.24,263.631 \n",
       "  \"/>\n",
       "<g clip-path=\"url(#clip7001)\">\n",
       "<text style=\"fill:#000000; fill-opacity:1; font-family:Arial,Helvetica Neue,Helvetica,sans-serif; font-size:56px; text-anchor:start;\" transform=\"rotate(0, 2560.24, 284.131)\" x=\"2560.24\" y=\"284.131\">legendre 1</text>\n",
       "</g>\n",
       "<polyline clip-path=\"url(#clip7001)\" style=\"stroke:#3da44d; stroke-width:1; stroke-opacity:1; fill:none\" points=\"\n",
       "  2350.24,335.451 2530.24,335.451 \n",
       "  \"/>\n",
       "<g clip-path=\"url(#clip7001)\">\n",
       "<text style=\"fill:#000000; fill-opacity:1; font-family:Arial,Helvetica Neue,Helvetica,sans-serif; font-size:56px; text-anchor:start;\" transform=\"rotate(0, 2560.24, 355.951)\" x=\"2560.24\" y=\"355.951\">legendre 2</text>\n",
       "</g>\n",
       "<polyline clip-path=\"url(#clip7001)\" style=\"stroke:#c271d2; stroke-width:1; stroke-opacity:1; fill:none\" points=\"\n",
       "  2350.24,407.271 2530.24,407.271 \n",
       "  \"/>\n",
       "<g clip-path=\"url(#clip7001)\">\n",
       "<text style=\"fill:#000000; fill-opacity:1; font-family:Arial,Helvetica Neue,Helvetica,sans-serif; font-size:56px; text-anchor:start;\" transform=\"rotate(0, 2560.24, 427.771)\" x=\"2560.24\" y=\"427.771\">legendre 3</text>\n",
       "</g>\n",
       "<polyline clip-path=\"url(#clip7001)\" style=\"stroke:#ac8d18; stroke-width:1; stroke-opacity:1; fill:none\" points=\"\n",
       "  2350.24,479.091 2530.24,479.091 \n",
       "  \"/>\n",
       "<g clip-path=\"url(#clip7001)\">\n",
       "<text style=\"fill:#000000; fill-opacity:1; font-family:Arial,Helvetica Neue,Helvetica,sans-serif; font-size:56px; text-anchor:start;\" transform=\"rotate(0, 2560.24, 499.591)\" x=\"2560.24\" y=\"499.591\">legendre 4</text>\n",
       "</g>\n",
       "<polyline clip-path=\"url(#clip7001)\" style=\"stroke:#00a9ad; stroke-width:1; stroke-opacity:1; fill:none\" points=\"\n",
       "  2350.24,550.911 2530.24,550.911 \n",
       "  \"/>\n",
       "<g clip-path=\"url(#clip7001)\">\n",
       "<text style=\"fill:#000000; fill-opacity:1; font-family:Arial,Helvetica Neue,Helvetica,sans-serif; font-size:56px; text-anchor:start;\" transform=\"rotate(0, 2560.24, 571.411)\" x=\"2560.24\" y=\"571.411\">legendre 5</text>\n",
       "</g>\n",
       "<polyline clip-path=\"url(#clip7001)\" style=\"stroke:#ed5d92; stroke-width:1; stroke-opacity:1; fill:none\" points=\"\n",
       "  2350.24,622.731 2530.24,622.731 \n",
       "  \"/>\n",
       "<g clip-path=\"url(#clip7001)\">\n",
       "<text style=\"fill:#000000; fill-opacity:1; font-family:Arial,Helvetica Neue,Helvetica,sans-serif; font-size:56px; text-anchor:start;\" transform=\"rotate(0, 2560.24, 643.231)\" x=\"2560.24\" y=\"643.231\">legendre 6</text>\n",
       "</g>\n",
       "</svg>\n"
      ]
     },
     "execution_count": 147,
     "metadata": {},
     "output_type": "execute_result"
    }
   ],
   "source": [
    "plot(x -> legendre(0)(x), -1, 1, size=(3000,3000), label = \"legendre 0\")\n",
    "plot!(x -> legendre(1)(x), -1, 1, size=(3000,3000), label = \"legendre 1\")\n",
    "plot!(x -> legendre(2)(x), -1, 1, size=(3000,3000), label = \"legendre 2\")\n",
    "plot!(x -> legendre(3)(x), -1, 1, size=(3000,3000), label = \"legendre 3\")\n",
    "plot!(x -> legendre(4)(x), -1, 1, size=(3000,3000), label = \"legendre 4\")\n",
    "plot!(x -> legendre(5)(x), -1, 1, size=(3000,3000), label = \"legendre 5\")\n",
    "plot!(x -> legendre(6)(x), -1, 1, size=(3000,3000), label = \"legendre 6\")\n"
   ]
  },
  {
   "cell_type": "code",
   "execution_count": 137,
   "metadata": {},
   "outputs": [
    {
     "data": {
      "text/plain": [
       "2-element Array{Float64,1}:\n",
       " -0.57735\n",
       "  0.57735"
      ]
     },
     "execution_count": 137,
     "metadata": {},
     "output_type": "execute_result"
    }
   ],
   "source": [
    "roots(legendre(2))"
   ]
  },
  {
   "cell_type": "code",
   "execution_count": 111,
   "metadata": {},
   "outputs": [
    {
     "data": {
      "text/plain": [
       "([-0.57735, 0.57735], [1.0, 1.0])"
      ]
     },
     "execution_count": 111,
     "metadata": {},
     "output_type": "execute_result"
    }
   ],
   "source": [
    "gauss(2)"
   ]
  },
  {
   "cell_type": "code",
   "execution_count": 112,
   "metadata": {},
   "outputs": [
    {
     "data": {
      "text/plain": [
       "3-element Array{Float64,1}:\n",
       " -0.774597\n",
       "  0.774597\n",
       "  0.0     "
      ]
     },
     "execution_count": 112,
     "metadata": {},
     "output_type": "execute_result"
    }
   ],
   "source": [
    "roots(legendre(3))"
   ]
  },
  {
   "cell_type": "code",
   "execution_count": 113,
   "metadata": {},
   "outputs": [
    {
     "data": {
      "text/plain": [
       "([-0.774597, 0.0, 0.774597], [0.555556, 0.888889, 0.555556])"
      ]
     },
     "execution_count": 113,
     "metadata": {},
     "output_type": "execute_result"
    }
   ],
   "source": [
    "gauss(3)"
   ]
  },
  {
   "cell_type": "code",
   "execution_count": 114,
   "metadata": {},
   "outputs": [
    {
     "data": {
      "text/plain": [
       "4-element Array{Float64,1}:\n",
       " -0.861136\n",
       "  0.861136\n",
       " -0.339981\n",
       "  0.339981"
      ]
     },
     "execution_count": 114,
     "metadata": {},
     "output_type": "execute_result"
    }
   ],
   "source": [
    "roots(legendre(4))"
   ]
  },
  {
   "cell_type": "code",
   "execution_count": 115,
   "metadata": {},
   "outputs": [
    {
     "data": {
      "text/plain": [
       "([-0.861136, -0.339981, 0.339981, 0.861136], [0.347855, 0.652145, 0.652145, 0.347855])"
      ]
     },
     "execution_count": 115,
     "metadata": {},
     "output_type": "execute_result"
    }
   ],
   "source": [
    "gauss(4)"
   ]
  },
  {
   "cell_type": "markdown",
   "metadata": {},
   "source": [
    "Podstawowe twierdzenie kwadratur Gaussa: Odcięte xi n-punktowej kwadratury Gaussa z funkcją ważącą w(x)\n",
    "w [a, b] są zerami wielomianu ortogonalnego ϕn(x) dla tego samego przedziału i tej samej funkcji ważącej\n"
   ]
  },
  {
   "cell_type": "markdown",
   "metadata": {},
   "source": [
    "Zadanie 2.\n",
    "Napisz funkcję, która dla podanej liczby punktów Gaussa $k$ oraz funkcji $f$ policzy $\\int_{-1}^{1} f dx$ metodą używającą funkcji:\n",
    "gauss(k)\n",
    "oraz sumy \n",
    "sum(a .* f.(xp))"
   ]
  },
  {
   "cell_type": "code",
   "execution_count": 29,
   "metadata": {},
   "outputs": [
    {
     "data": {
      "text/plain": [
       "gaussian_quadrature (generic function with 1 method)"
      ]
     },
     "execution_count": 29,
     "metadata": {},
     "output_type": "execute_result"
    }
   ],
   "source": [
    "function gaussian_quadrature(f, k)\n",
    "    (xp,a)=gauss(Float64,k)\n",
    "    return sum(a .* f.(xp))\n",
    "end"
   ]
  },
  {
   "cell_type": "code",
   "execution_count": 46,
   "metadata": {},
   "outputs": [
    {
     "data": {
      "text/plain": [
       "F (generic function with 1 method)"
      ]
     },
     "execution_count": 46,
     "metadata": {},
     "output_type": "execute_result"
    }
   ],
   "source": [
    "f(x) = 5x^4 - 3x^3 + 6x^2 - 11\n",
    "F(x) = x^5 - 3/4x^4 + 2x^3 - 11x"
   ]
  },
  {
   "cell_type": "code",
   "execution_count": 47,
   "metadata": {},
   "outputs": [
    {
     "data": {
      "text/html": [
       "-16.0"
      ],
      "text/plain": [
       "-16.0"
      ]
     },
     "execution_count": 47,
     "metadata": {},
     "output_type": "execute_result"
    }
   ],
   "source": [
    "exact_F = F(1) - F(-1)"
   ]
  },
  {
   "cell_type": "code",
   "execution_count": 48,
   "metadata": {},
   "outputs": [
    {
     "name": "stdout",
     "output_type": "stream",
     "text": [
      "6.0\n",
      "0.8888888888888822\n",
      "7.105427357601002e-15\n",
      "3.552713678800501e-15\n",
      "5.329070518200751e-15\n",
      "3.552713678800501e-15\n",
      "3.552713678800501e-15\n",
      "0.0\n",
      "7.105427357601002e-15\n",
      "0.0\n",
      "3.552713678800501e-15\n",
      "3.552713678800501e-15\n",
      "3.552713678800501e-15\n",
      "3.552713678800501e-15\n",
      "1.7763568394002505e-15\n",
      "0.0\n",
      "1.7763568394002505e-15\n",
      "3.552713678800501e-15\n",
      "0.0\n",
      "0.0\n",
      "0.0\n",
      "1.7763568394002505e-15\n",
      "0.0\n",
      "3.552713678800501e-15\n",
      "1.7763568394002505e-15\n",
      "3.552713678800501e-15\n",
      "3.552713678800501e-15\n",
      "1.7763568394002505e-15\n",
      "3.552713678800501e-15\n",
      "3.552713678800501e-15\n",
      "3.552713678800501e-15\n",
      "1.7763568394002505e-15\n",
      "1.7763568394002505e-15\n",
      "3.552713678800501e-15\n",
      "0.0\n",
      "0.0\n",
      "0.0\n",
      "0.0\n",
      "3.552713678800501e-15\n",
      "7.105427357601002e-15\n",
      "0.0\n",
      "0.0\n",
      "0.0\n",
      "1.7763568394002505e-15\n",
      "3.552713678800501e-15\n",
      "1.7763568394002505e-15\n",
      "1.7763568394002505e-15\n",
      "3.552713678800501e-15\n",
      "0.0\n",
      "3.552713678800501e-15\n",
      "3.552713678800501e-15\n",
      "3.552713678800501e-15\n",
      "1.7763568394002505e-15\n",
      "1.7763568394002505e-15\n",
      "1.7763568394002505e-15\n",
      "0.0\n",
      "3.552713678800501e-15\n",
      "1.7763568394002505e-15\n",
      "0.0\n",
      "7.105427357601002e-15\n",
      "5.329070518200751e-15\n",
      "0.0\n",
      "3.552713678800501e-15\n",
      "1.7763568394002505e-15\n",
      "0.0\n",
      "5.329070518200751e-15\n",
      "1.7763568394002505e-15\n",
      "3.552713678800501e-15\n",
      "0.0\n",
      "0.0\n",
      "1.7763568394002505e-15\n",
      "3.552713678800501e-15\n",
      "0.0\n",
      "0.0\n",
      "3.552713678800501e-15\n",
      "5.329070518200751e-15\n",
      "1.7763568394002505e-15\n",
      "5.329070518200751e-15\n",
      "0.0\n",
      "1.7763568394002505e-15\n",
      "3.552713678800501e-15\n",
      "3.552713678800501e-15\n",
      "0.0\n",
      "0.0\n",
      "1.7763568394002505e-15\n",
      "7.105427357601002e-15\n",
      "0.0\n",
      "0.0\n",
      "1.7763568394002505e-15\n",
      "1.7763568394002505e-15\n",
      "5.329070518200751e-15\n",
      "1.7763568394002505e-15\n",
      "3.552713678800501e-15\n",
      "3.552713678800501e-15\n",
      "5.329070518200751e-15\n",
      "0.0\n",
      "0.0\n",
      "1.7763568394002505e-15\n",
      "3.552713678800501e-15\n",
      "5.329070518200751e-15\n"
     ]
    }
   ],
   "source": [
    "for i in 1:100\n",
    "    println(abs(exact_F - gaussian_quadrature(f, i)))\n",
    "end"
   ]
  },
  {
   "cell_type": "markdown",
   "metadata": {},
   "source": [
    "Dla wielomianu stopnia 4 staje się dokładna od k = 3."
   ]
  },
  {
   "cell_type": "markdown",
   "metadata": {},
   "source": [
    "Twierdzenie o stopniu dokładności kwadratury Gaussa: \n",
    "Kwadratura ma stopień dokładności 2n-1."
   ]
  },
  {
   "cell_type": "markdown",
   "metadata": {},
   "source": [
    "Zadanie 3. Skorzystaj z rozwiązania zadania 2 do napisania funkcji liczącej całki w dowolnym przedziale $\\int_{a}^{b} f(x) dx$\n",
    "\n",
    "dokonując normalizacji do $\\int_{-1}^{1} F(z) dz$\n",
    "\n",
    "podstawiając:\n",
    "\n",
    "$x=\\frac{b+a}{2}+ \\frac{b-a}{2} z $ oraz\n",
    "\n",
    "$dx =\\frac{b-a}{2} dz $\n",
    "\n",
    "Przetestuj działanie na kilku przykładach i sprawdź z wynikami otrzymanymi analitycznie."
   ]
  },
  {
   "cell_type": "code",
   "execution_count": 103,
   "metadata": {},
   "outputs": [
    {
     "data": {
      "text/plain": [
       "gaussian_quadrature2 (generic function with 1 method)"
      ]
     },
     "execution_count": 103,
     "metadata": {},
     "output_type": "execute_result"
    }
   ],
   "source": [
    "function gaussian_quadrature2(f, k, a, b)\n",
    "    f2(x) = f( (b+a)/2 + (b-a)/2 * x )\n",
    "    (xp,c)=gauss(Float64,k)\n",
    "    return (b-a)*sum(c .* f2.(xp))/2\n",
    "end"
   ]
  },
  {
   "cell_type": "code",
   "execution_count": 106,
   "metadata": {},
   "outputs": [
    {
     "name": "stdout",
     "output_type": "stream",
     "text": [
      "203780.00000000006"
     ]
    }
   ],
   "source": [
    "print(gaussian_quadrature2(f, 10, -10, 10)) #zgadza się"
   ]
  },
  {
   "cell_type": "markdown",
   "metadata": {},
   "source": [
    "Zadanie 4.\n",
    "Głowną funkcją pakietu QuadGK jest adaptacyjna funkcja guadgk używająca całkowania Gauss-Kronroda.\n",
    "Użyj tej funkcji do policzenia całki dla przykładowego wielomianu.\n",
    "Funkcja ta ma możliwość liczenia również całek do nieskończoności Policz całkę od minus do plus nieskonczonosci standardowego rozkładu normalnego Gaussa $ \\frac{1}{\\sqrt{2\\pi}}exp(\\frac{-x^2}{2})$"
   ]
  },
  {
   "cell_type": "code",
   "execution_count": 8,
   "metadata": {},
   "outputs": [
    {
     "data": {
      "text/plain": [
       "f (generic function with 1 method)"
      ]
     },
     "execution_count": 8,
     "metadata": {},
     "output_type": "execute_result"
    }
   ],
   "source": [
    "f(x) = 5x^4 - 3x^3 + 6x^2 - 11"
   ]
  },
  {
   "cell_type": "code",
   "execution_count": 9,
   "metadata": {},
   "outputs": [
    {
     "data": {
      "text/plain": [
       "(203779.99999999997, 0.0)"
      ]
     },
     "execution_count": 9,
     "metadata": {},
     "output_type": "execute_result"
    }
   ],
   "source": [
    "quadgk(f, -10, 10)"
   ]
  },
  {
   "cell_type": "code",
   "execution_count": 10,
   "metadata": {},
   "outputs": [
    {
     "data": {
      "text/plain": [
       "normal_dist (generic function with 1 method)"
      ]
     },
     "execution_count": 10,
     "metadata": {},
     "output_type": "execute_result"
    }
   ],
   "source": [
    "normal_dist(x) = 1/sqrt(2*pi)*e^(-x^2/2)"
   ]
  },
  {
   "cell_type": "code",
   "execution_count": 11,
   "metadata": {},
   "outputs": [
    {
     "data": {
      "text/plain": [
       "(1.0000000000032583, 1.4395584941504537e-8)"
      ]
     },
     "execution_count": 11,
     "metadata": {},
     "output_type": "execute_result"
    }
   ],
   "source": [
    "quadgk(normal_dist, -Inf, Inf)"
   ]
  },
  {
   "cell_type": "markdown",
   "metadata": {},
   "source": [
    "Zadanie 5.\n",
    "Napisz własną funkcję całkującą metodą prostokątów albo trapezów. Narysuj wykres funkcji błędu w stosunku do wyniku otrzymanego analitycznie w zaleznosci od ilosci potrzebnych przedziałów dla przykładowego wielomianu."
   ]
  },
  {
   "cell_type": "markdown",
   "metadata": {},
   "source": [
    "Metoda trapezów"
   ]
  },
  {
   "cell_type": "code",
   "execution_count": 12,
   "metadata": {},
   "outputs": [
    {
     "data": {
      "text/plain": [
       "trapezoidal_rule (generic function with 1 method)"
      ]
     },
     "execution_count": 12,
     "metadata": {},
     "output_type": "execute_result"
    }
   ],
   "source": [
    "function trapezoidal_rule(f, n, xp, xk)\n",
    "    #n -> liczba przedziałów\n",
    "    dx = (xk - xp)/n\n",
    "    sum = 0\n",
    "    sum = f(xp)*dx/2\n",
    "    \n",
    "    for i in 1:(n-1)\n",
    "        xi = xp + i/n*(xk-xp)\n",
    "        sum = sum + dx * f(xi)\n",
    "    end\n",
    "    \n",
    "    sum = sum + f(xk)*dx/2\n",
    "    return sum\n",
    "end  \n"
   ]
  },
  {
   "cell_type": "code",
   "execution_count": 13,
   "metadata": {},
   "outputs": [
    {
     "data": {
      "text/plain": [
       "F (generic function with 1 method)"
      ]
     },
     "execution_count": 13,
     "metadata": {},
     "output_type": "execute_result"
    }
   ],
   "source": [
    "f(x) = 5x^4 - 3x^3 + 6x^2 - 11\n",
    "F(x) = x^5 - 3/4x^4 + 2x^3 - 11x"
   ]
  },
  {
   "cell_type": "markdown",
   "metadata": {},
   "source": [
    "Całkujemy na przedziale (-10, 10)"
   ]
  },
  {
   "cell_type": "code",
   "execution_count": 14,
   "metadata": {},
   "outputs": [
    {
     "data": {
      "text/html": [
       "203780.0"
      ],
      "text/plain": [
       "203780.0"
      ]
     },
     "execution_count": 14,
     "metadata": {},
     "output_type": "execute_result"
    }
   ],
   "source": [
    "exact = F(10) - F(-10)"
   ]
  },
  {
   "cell_type": "code",
   "execution_count": 15,
   "metadata": {},
   "outputs": [
    {
     "data": {
      "text/html": [
       "203914.128"
      ],
      "text/plain": [
       "203914.128"
      ]
     },
     "execution_count": 15,
     "metadata": {},
     "output_type": "execute_result"
    }
   ],
   "source": [
    "trapezoidal_rule(f, 100, -10, 10)"
   ]
  },
  {
   "cell_type": "code",
   "execution_count": 16,
   "metadata": {},
   "outputs": [
    {
     "data": {
      "text/plain": [
       "error (generic function with 1 method)"
      ]
     },
     "execution_count": 16,
     "metadata": {},
     "output_type": "execute_result"
    }
   ],
   "source": [
    "error(f, n) = abs(exact - trapezoidal_rule(f, n, -10, 10))"
   ]
  },
  {
   "cell_type": "code",
   "execution_count": 17,
   "metadata": {},
   "outputs": [
    {
     "data": {
      "text/plain": [
       "1000-element Array{Float64,1}:\n",
       " 13360.0    \n",
       " 11049.0    \n",
       "  9289.09   \n",
       "  7918.21   \n",
       "  6829.65   \n",
       "  5950.95   \n",
       "  5231.45   \n",
       "  4634.91   \n",
       "  4134.84   \n",
       "  3711.51   \n",
       "  3350.0    \n",
       "  3038.83   \n",
       "  2769.07   \n",
       "     ⋮      \n",
       "     1.34671\n",
       "     1.34402\n",
       "     1.34133\n",
       "     1.33865\n",
       "     1.33598\n",
       "     1.33332\n",
       "     1.33067\n",
       "     1.32802\n",
       "     1.32538\n",
       "     1.32275\n",
       "     1.32013\n",
       "     1.31751"
      ]
     },
     "execution_count": 17,
     "metadata": {},
     "output_type": "execute_result"
    }
   ],
   "source": [
    "x = range(10, 1000)\n",
    "y = error.(f,x)"
   ]
  },
  {
   "cell_type": "code",
   "execution_count": 18,
   "metadata": {},
   "outputs": [
    {
     "data": {
      "image/svg+xml": [
       "<?xml version=\"1.0\" encoding=\"utf-8\"?>\n",
       "<svg xmlns=\"http://www.w3.org/2000/svg\" xmlns:xlink=\"http://www.w3.org/1999/xlink\" width=\"750\" height=\"750\" viewBox=\"0 0 3000 3000\">\n",
       "<defs>\n",
       "  <clipPath id=\"clip3700\">\n",
       "    <rect x=\"0\" y=\"0\" width=\"2000\" height=\"2000\"/>\n",
       "  </clipPath>\n",
       "</defs>\n",
       "<defs>\n",
       "  <clipPath id=\"clip3701\">\n",
       "    <rect x=\"0\" y=\"0\" width=\"3000\" height=\"3000\"/>\n",
       "  </clipPath>\n",
       "</defs>\n",
       "<polygon clip-path=\"url(#clip3701)\" points=\"\n",
       "0,3000 3000,3000 3000,0 0,0 \n",
       "  \" fill=\"#ffffff\" fill-rule=\"evenodd\" fill-opacity=\"1\"/>\n",
       "<defs>\n",
       "  <clipPath id=\"clip3702\">\n",
       "    <rect x=\"600\" y=\"300\" width=\"2101\" height=\"2101\"/>\n",
       "  </clipPath>\n",
       "</defs>\n",
       "<polygon clip-path=\"url(#clip3701)\" points=\"\n",
       "73.8616,2975.87 2980.31,2975.87 2980.31,11.811 73.8616,11.811 \n",
       "  \" fill=\"#ffffff\" fill-rule=\"evenodd\" fill-opacity=\"1\"/>\n",
       "<defs>\n",
       "  <clipPath id=\"clip3703\">\n",
       "    <rect x=\"73\" y=\"11\" width=\"2907\" height=\"2965\"/>\n",
       "  </clipPath>\n",
       "</defs>\n",
       "<polyline clip-path=\"url(#clip3703)\" style=\"stroke:#000000; stroke-width:0.5; stroke-opacity:0.1; fill:none\" points=\"\n",
       "  128.673,2975.87 128.673,11.811 \n",
       "  \"/>\n",
       "<polyline clip-path=\"url(#clip3703)\" style=\"stroke:#000000; stroke-width:0.5; stroke-opacity:0.1; fill:none\" points=\"\n",
       "  814.843,2975.87 814.843,11.811 \n",
       "  \"/>\n",
       "<polyline clip-path=\"url(#clip3703)\" style=\"stroke:#000000; stroke-width:0.5; stroke-opacity:0.1; fill:none\" points=\"\n",
       "  1501.01,2975.87 1501.01,11.811 \n",
       "  \"/>\n",
       "<polyline clip-path=\"url(#clip3703)\" style=\"stroke:#000000; stroke-width:0.5; stroke-opacity:0.1; fill:none\" points=\"\n",
       "  2187.18,2975.87 2187.18,11.811 \n",
       "  \"/>\n",
       "<polyline clip-path=\"url(#clip3703)\" style=\"stroke:#000000; stroke-width:0.5; stroke-opacity:0.1; fill:none\" points=\"\n",
       "  2873.35,2975.87 2873.35,11.811 \n",
       "  \"/>\n",
       "<polyline clip-path=\"url(#clip3703)\" style=\"stroke:#000000; stroke-width:0.5; stroke-opacity:0.1; fill:none\" points=\"\n",
       "  73.8616,2892.26 2980.31,2892.26 \n",
       "  \"/>\n",
       "<polyline clip-path=\"url(#clip3703)\" style=\"stroke:#000000; stroke-width:0.5; stroke-opacity:0.1; fill:none\" points=\"\n",
       "  73.8616,2473.61 2980.31,2473.61 \n",
       "  \"/>\n",
       "<polyline clip-path=\"url(#clip3703)\" style=\"stroke:#000000; stroke-width:0.5; stroke-opacity:0.1; fill:none\" points=\"\n",
       "  73.8616,2054.96 2980.31,2054.96 \n",
       "  \"/>\n",
       "<polyline clip-path=\"url(#clip3703)\" style=\"stroke:#000000; stroke-width:0.5; stroke-opacity:0.1; fill:none\" points=\"\n",
       "  73.8616,1636.32 2980.31,1636.32 \n",
       "  \"/>\n",
       "<polyline clip-path=\"url(#clip3703)\" style=\"stroke:#000000; stroke-width:0.5; stroke-opacity:0.1; fill:none\" points=\"\n",
       "  73.8616,1217.67 2980.31,1217.67 \n",
       "  \"/>\n",
       "<polyline clip-path=\"url(#clip3703)\" style=\"stroke:#000000; stroke-width:0.5; stroke-opacity:0.1; fill:none\" points=\"\n",
       "  73.8616,799.025 2980.31,799.025 \n",
       "  \"/>\n",
       "<polyline clip-path=\"url(#clip3703)\" style=\"stroke:#000000; stroke-width:0.5; stroke-opacity:0.1; fill:none\" points=\"\n",
       "  73.8616,380.379 2980.31,380.379 \n",
       "  \"/>\n",
       "<polyline clip-path=\"url(#clip3701)\" style=\"stroke:#000000; stroke-width:1; stroke-opacity:1; fill:none\" points=\"\n",
       "  73.8616,2975.87 2980.31,2975.87 \n",
       "  \"/>\n",
       "<polyline clip-path=\"url(#clip3701)\" style=\"stroke:#000000; stroke-width:1; stroke-opacity:1; fill:none\" points=\"\n",
       "  73.8616,2975.87 73.8616,11.811 \n",
       "  \"/>\n",
       "<polyline clip-path=\"url(#clip3701)\" style=\"stroke:#000000; stroke-width:1; stroke-opacity:1; fill:none\" points=\"\n",
       "  128.673,2975.87 128.673,2931.41 \n",
       "  \"/>\n",
       "<polyline clip-path=\"url(#clip3701)\" style=\"stroke:#000000; stroke-width:1; stroke-opacity:1; fill:none\" points=\"\n",
       "  814.843,2975.87 814.843,2931.41 \n",
       "  \"/>\n",
       "<polyline clip-path=\"url(#clip3701)\" style=\"stroke:#000000; stroke-width:1; stroke-opacity:1; fill:none\" points=\"\n",
       "  1501.01,2975.87 1501.01,2931.41 \n",
       "  \"/>\n",
       "<polyline clip-path=\"url(#clip3701)\" style=\"stroke:#000000; stroke-width:1; stroke-opacity:1; fill:none\" points=\"\n",
       "  2187.18,2975.87 2187.18,2931.41 \n",
       "  \"/>\n",
       "<polyline clip-path=\"url(#clip3701)\" style=\"stroke:#000000; stroke-width:1; stroke-opacity:1; fill:none\" points=\"\n",
       "  2873.35,2975.87 2873.35,2931.41 \n",
       "  \"/>\n",
       "<polyline clip-path=\"url(#clip3701)\" style=\"stroke:#000000; stroke-width:1; stroke-opacity:1; fill:none\" points=\"\n",
       "  73.8616,2892.26 117.458,2892.26 \n",
       "  \"/>\n",
       "<polyline clip-path=\"url(#clip3701)\" style=\"stroke:#000000; stroke-width:1; stroke-opacity:1; fill:none\" points=\"\n",
       "  73.8616,2473.61 117.458,2473.61 \n",
       "  \"/>\n",
       "<polyline clip-path=\"url(#clip3701)\" style=\"stroke:#000000; stroke-width:1; stroke-opacity:1; fill:none\" points=\"\n",
       "  73.8616,2054.96 117.458,2054.96 \n",
       "  \"/>\n",
       "<polyline clip-path=\"url(#clip3701)\" style=\"stroke:#000000; stroke-width:1; stroke-opacity:1; fill:none\" points=\"\n",
       "  73.8616,1636.32 117.458,1636.32 \n",
       "  \"/>\n",
       "<polyline clip-path=\"url(#clip3701)\" style=\"stroke:#000000; stroke-width:1; stroke-opacity:1; fill:none\" points=\"\n",
       "  73.8616,1217.67 117.458,1217.67 \n",
       "  \"/>\n",
       "<polyline clip-path=\"url(#clip3701)\" style=\"stroke:#000000; stroke-width:1; stroke-opacity:1; fill:none\" points=\"\n",
       "  73.8616,799.025 117.458,799.025 \n",
       "  \"/>\n",
       "<polyline clip-path=\"url(#clip3701)\" style=\"stroke:#000000; stroke-width:1; stroke-opacity:1; fill:none\" points=\"\n",
       "  73.8616,380.379 117.458,380.379 \n",
       "  \"/>\n",
       "<g clip-path=\"url(#clip3701)\">\n",
       "<text style=\"fill:#000000; fill-opacity:1; font-family:Arial,Helvetica Neue,Helvetica,sans-serif; font-size:12px; text-anchor:middle;\" transform=\"rotate(0, 128.673, 3001.67)\" x=\"128.673\" y=\"3001.67\">0</text>\n",
       "</g>\n",
       "<g clip-path=\"url(#clip3701)\">\n",
       "<text style=\"fill:#000000; fill-opacity:1; font-family:Arial,Helvetica Neue,Helvetica,sans-serif; font-size:12px; text-anchor:middle;\" transform=\"rotate(0, 814.843, 3001.67)\" x=\"814.843\" y=\"3001.67\">250</text>\n",
       "</g>\n",
       "<g clip-path=\"url(#clip3701)\">\n",
       "<text style=\"fill:#000000; fill-opacity:1; font-family:Arial,Helvetica Neue,Helvetica,sans-serif; font-size:12px; text-anchor:middle;\" transform=\"rotate(0, 1501.01, 3001.67)\" x=\"1501.01\" y=\"3001.67\">500</text>\n",
       "</g>\n",
       "<g clip-path=\"url(#clip3701)\">\n",
       "<text style=\"fill:#000000; fill-opacity:1; font-family:Arial,Helvetica Neue,Helvetica,sans-serif; font-size:12px; text-anchor:middle;\" transform=\"rotate(0, 2187.18, 3001.67)\" x=\"2187.18\" y=\"3001.67\">750</text>\n",
       "</g>\n",
       "<g clip-path=\"url(#clip3701)\">\n",
       "<text style=\"fill:#000000; fill-opacity:1; font-family:Arial,Helvetica Neue,Helvetica,sans-serif; font-size:12px; text-anchor:middle;\" transform=\"rotate(0, 2873.35, 3001.67)\" x=\"2873.35\" y=\"3001.67\">1000</text>\n",
       "</g>\n",
       "<g clip-path=\"url(#clip3701)\">\n",
       "<text style=\"fill:#000000; fill-opacity:1; font-family:Arial,Helvetica Neue,Helvetica,sans-serif; font-size:12px; text-anchor:end;\" transform=\"rotate(0, 43.8616, 2896.76)\" x=\"43.8616\" y=\"2896.76\">0</text>\n",
       "</g>\n",
       "<g clip-path=\"url(#clip3701)\">\n",
       "<text style=\"fill:#000000; fill-opacity:1; font-family:Arial,Helvetica Neue,Helvetica,sans-serif; font-size:12px; text-anchor:start;\" transform=\"rotate(0, 1.29035, 2479.54)\" x=\"1.29035\" y=\"2479.54\">2.0×10</text>\n",
       "</g>\n",
       "<g clip-path=\"url(#clip3701)\">\n",
       "<text style=\"fill:#000000; fill-opacity:1; font-family:Arial,Helvetica Neue,Helvetica,sans-serif; font-size:10px; text-anchor:start;\" transform=\"rotate(0, 38.4255, 2472.69)\" x=\"38.4255\" y=\"2472.69\">3</text>\n",
       "</g>\n",
       "<g clip-path=\"url(#clip3701)\">\n",
       "<text style=\"fill:#000000; fill-opacity:1; font-family:Arial,Helvetica Neue,Helvetica,sans-serif; font-size:12px; text-anchor:start;\" transform=\"rotate(0, 1.29035, 2060.9)\" x=\"1.29035\" y=\"2060.9\">4.0×10</text>\n",
       "</g>\n",
       "<g clip-path=\"url(#clip3701)\">\n",
       "<text style=\"fill:#000000; fill-opacity:1; font-family:Arial,Helvetica Neue,Helvetica,sans-serif; font-size:10px; text-anchor:start;\" transform=\"rotate(0, 38.4255, 2054.04)\" x=\"38.4255\" y=\"2054.04\">3</text>\n",
       "</g>\n",
       "<g clip-path=\"url(#clip3701)\">\n",
       "<text style=\"fill:#000000; fill-opacity:1; font-family:Arial,Helvetica Neue,Helvetica,sans-serif; font-size:12px; text-anchor:start;\" transform=\"rotate(0, 1.29035, 1642.25)\" x=\"1.29035\" y=\"1642.25\">6.0×10</text>\n",
       "</g>\n",
       "<g clip-path=\"url(#clip3701)\">\n",
       "<text style=\"fill:#000000; fill-opacity:1; font-family:Arial,Helvetica Neue,Helvetica,sans-serif; font-size:10px; text-anchor:start;\" transform=\"rotate(0, 38.4255, 1635.4)\" x=\"38.4255\" y=\"1635.4\">3</text>\n",
       "</g>\n",
       "<g clip-path=\"url(#clip3701)\">\n",
       "<text style=\"fill:#000000; fill-opacity:1; font-family:Arial,Helvetica Neue,Helvetica,sans-serif; font-size:12px; text-anchor:start;\" transform=\"rotate(0, 1.29035, 1223.6)\" x=\"1.29035\" y=\"1223.6\">8.0×10</text>\n",
       "</g>\n",
       "<g clip-path=\"url(#clip3701)\">\n",
       "<text style=\"fill:#000000; fill-opacity:1; font-family:Arial,Helvetica Neue,Helvetica,sans-serif; font-size:10px; text-anchor:start;\" transform=\"rotate(0, 38.4255, 1216.75)\" x=\"38.4255\" y=\"1216.75\">3</text>\n",
       "</g>\n",
       "<g clip-path=\"url(#clip3701)\">\n",
       "<text style=\"fill:#000000; fill-opacity:1; font-family:Arial,Helvetica Neue,Helvetica,sans-serif; font-size:12px; text-anchor:start;\" transform=\"rotate(0, 1.29035, 804.957)\" x=\"1.29035\" y=\"804.957\">1.0×10</text>\n",
       "</g>\n",
       "<g clip-path=\"url(#clip3701)\">\n",
       "<text style=\"fill:#000000; fill-opacity:1; font-family:Arial,Helvetica Neue,Helvetica,sans-serif; font-size:10px; text-anchor:start;\" transform=\"rotate(0, 38.4255, 798.104)\" x=\"38.4255\" y=\"798.104\">4</text>\n",
       "</g>\n",
       "<g clip-path=\"url(#clip3701)\">\n",
       "<text style=\"fill:#000000; fill-opacity:1; font-family:Arial,Helvetica Neue,Helvetica,sans-serif; font-size:12px; text-anchor:start;\" transform=\"rotate(0, 1.29035, 386.311)\" x=\"1.29035\" y=\"386.311\">1.2×10</text>\n",
       "</g>\n",
       "<g clip-path=\"url(#clip3701)\">\n",
       "<text style=\"fill:#000000; fill-opacity:1; font-family:Arial,Helvetica Neue,Helvetica,sans-serif; font-size:10px; text-anchor:start;\" transform=\"rotate(0, 38.4255, 379.458)\" x=\"38.4255\" y=\"379.458\">4</text>\n",
       "</g>\n",
       "<polyline clip-path=\"url(#clip3703)\" style=\"stroke:#009af9; stroke-width:1; stroke-opacity:1; fill:none\" points=\"\n",
       "  156.12,95.6994 158.864,579.451 161.609,947.834 164.354,1234.79 167.098,1462.65 169.843,1646.59 172.588,1797.19 175.332,1922.06 178.077,2026.74 180.822,2115.35 \n",
       "  183.567,2191.02 186.311,2256.16 189.056,2312.63 191.801,2361.89 194.545,2405.14 197.29,2443.31 200.035,2477.16 202.779,2507.32 205.524,2534.31 208.269,2558.56 \n",
       "  211.013,2580.42 213.758,2600.21 216.503,2618.17 219.247,2634.52 221.992,2649.46 224.737,2663.13 227.481,2675.68 230.226,2687.22 232.971,2697.87 235.715,2707.71 \n",
       "  238.46,2716.82 241.205,2725.27 243.95,2733.12 246.694,2740.44 249.439,2747.26 252.184,2753.63 254.928,2759.59 257.673,2765.18 260.418,2770.41 263.162,2775.34 \n",
       "  265.907,2779.97 268.652,2784.32 271.396,2788.44 274.141,2792.32 276.886,2795.98 279.63,2799.45 282.375,2802.74 285.12,2805.85 287.864,2808.8 290.609,2811.61 \n",
       "  293.354,2814.27 296.098,2816.81 298.843,2819.22 301.588,2821.52 304.333,2823.71 307.077,2825.81 309.822,2827.81 312.567,2829.71 315.311,2831.54 318.056,2833.29 \n",
       "  320.801,2834.96 323.545,2836.56 326.29,2838.1 329.035,2839.57 331.779,2840.99 334.524,2842.34 337.269,2843.65 340.013,2844.9 342.758,2846.11 345.503,2847.27 \n",
       "  348.247,2848.39 350.992,2849.46 353.737,2850.5 356.481,2851.5 359.226,2852.47 361.971,2853.4 364.716,2854.3 367.46,2855.16 370.205,2856 372.95,2856.81 \n",
       "  375.694,2857.59 378.439,2858.35 381.184,2859.09 383.928,2859.79 386.673,2860.48 389.418,2861.15 392.162,2861.79 394.907,2862.42 397.652,2863.02 400.396,2863.61 \n",
       "  403.141,2864.18 405.886,2864.73 408.63,2865.27 411.375,2865.79 414.12,2866.3 416.864,2866.79 419.609,2867.27 422.354,2867.73 425.099,2868.19 427.843,2868.62 \n",
       "  430.588,2869.05 433.333,2869.47 436.077,2869.87 438.822,2870.27 441.567,2870.65 444.311,2871.03 447.056,2871.39 449.801,2871.75 452.545,2872.09 455.29,2872.43 \n",
       "  458.035,2872.76 460.779,2873.08 463.524,2873.39 466.269,2873.7 469.013,2874 471.758,2874.29 474.503,2874.57 477.247,2874.85 479.992,2875.12 482.737,2875.38 \n",
       "  485.482,2875.64 488.226,2875.9 490.971,2876.14 493.716,2876.38 496.46,2876.62 499.205,2876.85 501.95,2877.08 504.694,2877.3 507.439,2877.51 510.184,2877.72 \n",
       "  512.928,2877.93 515.673,2878.13 518.418,2878.33 521.162,2878.53 523.907,2878.72 526.652,2878.9 529.396,2879.08 532.141,2879.26 534.886,2879.44 537.63,2879.61 \n",
       "  540.375,2879.78 543.12,2879.94 545.865,2880.1 548.609,2880.26 551.354,2880.42 554.099,2880.57 556.843,2880.72 559.588,2880.87 562.333,2881.01 565.077,2881.15 \n",
       "  567.822,2881.29 570.567,2881.42 573.311,2881.56 576.056,2881.69 578.801,2881.82 581.545,2881.94 584.29,2882.07 587.035,2882.19 589.779,2882.31 592.524,2882.43 \n",
       "  595.269,2882.54 598.013,2882.65 600.758,2882.77 603.503,2882.87 606.248,2882.98 608.992,2883.09 611.737,2883.19 614.482,2883.29 617.226,2883.39 619.971,2883.49 \n",
       "  622.716,2883.59 625.46,2883.69 628.205,2883.78 630.95,2883.87 633.694,2883.96 636.439,2884.05 639.184,2884.14 641.928,2884.23 644.673,2884.31 647.418,2884.4 \n",
       "  650.162,2884.48 652.907,2884.56 655.652,2884.64 658.396,2884.72 661.141,2884.8 663.886,2884.87 666.631,2884.95 669.375,2885.02 672.12,2885.09 674.865,2885.17 \n",
       "  677.609,2885.24 680.354,2885.31 683.099,2885.38 685.843,2885.44 688.588,2885.51 691.333,2885.58 694.077,2885.64 696.822,2885.7 699.567,2885.77 702.311,2885.83 \n",
       "  705.056,2885.89 707.801,2885.95 710.545,2886.01 713.29,2886.07 716.035,2886.13 718.779,2886.18 721.524,2886.24 724.269,2886.29 727.014,2886.35 729.758,2886.4 \n",
       "  732.503,2886.46 735.248,2886.51 737.992,2886.56 740.737,2886.61 743.482,2886.66 746.226,2886.71 748.971,2886.76 751.716,2886.81 754.46,2886.85 757.205,2886.9 \n",
       "  759.95,2886.95 762.694,2886.99 765.439,2887.04 768.184,2887.08 770.928,2887.13 773.673,2887.17 776.418,2887.21 779.162,2887.26 781.907,2887.3 784.652,2887.34 \n",
       "  787.397,2887.38 790.141,2887.42 792.886,2887.46 795.631,2887.5 798.375,2887.54 801.12,2887.58 803.865,2887.62 806.609,2887.65 809.354,2887.69 812.099,2887.73 \n",
       "  814.843,2887.76 817.588,2887.8 820.333,2887.83 823.077,2887.87 825.822,2887.9 828.567,2887.94 831.311,2887.97 834.056,2888.01 836.801,2888.04 839.545,2888.07 \n",
       "  842.29,2888.1 845.035,2888.13 847.78,2888.17 850.524,2888.2 853.269,2888.23 856.014,2888.26 858.758,2888.29 861.503,2888.32 864.248,2888.35 866.992,2888.38 \n",
       "  869.737,2888.4 872.482,2888.43 875.226,2888.46 877.971,2888.49 880.716,2888.52 883.46,2888.54 886.205,2888.57 888.95,2888.6 891.694,2888.62 894.439,2888.65 \n",
       "  897.184,2888.67 899.928,2888.7 902.673,2888.73 905.418,2888.75 908.163,2888.77 910.907,2888.8 913.652,2888.82 916.397,2888.85 919.141,2888.87 921.886,2888.89 \n",
       "  924.631,2888.92 927.375,2888.94 930.12,2888.96 932.865,2888.99 935.609,2889.01 938.354,2889.03 941.099,2889.05 943.843,2889.07 946.588,2889.09 949.333,2889.12 \n",
       "  952.077,2889.14 954.822,2889.16 957.567,2889.18 960.311,2889.2 963.056,2889.22 965.801,2889.24 968.546,2889.26 971.29,2889.28 974.035,2889.3 976.78,2889.32 \n",
       "  979.524,2889.33 982.269,2889.35 985.014,2889.37 987.758,2889.39 990.503,2889.41 993.248,2889.43 995.992,2889.44 998.737,2889.46 1001.48,2889.48 1004.23,2889.5 \n",
       "  1006.97,2889.51 1009.72,2889.53 1012.46,2889.55 1015.21,2889.56 1017.95,2889.58 1020.69,2889.6 1023.44,2889.61 1026.18,2889.63 1028.93,2889.65 1031.67,2889.66 \n",
       "  1034.42,2889.68 1037.16,2889.69 1039.91,2889.71 1042.65,2889.72 1045.4,2889.74 1048.14,2889.75 1050.89,2889.77 1053.63,2889.78 1056.38,2889.8 1059.12,2889.81 \n",
       "  1061.86,2889.83 1064.61,2889.84 1067.35,2889.86 1070.1,2889.87 1072.84,2889.88 1075.59,2889.9 1078.33,2889.91 1081.08,2889.92 1083.82,2889.94 1086.57,2889.95 \n",
       "  1089.31,2889.96 1092.06,2889.98 1094.8,2889.99 1097.55,2890 1100.29,2890.02 1103.03,2890.03 1105.78,2890.04 1108.52,2890.05 1111.27,2890.07 1114.01,2890.08 \n",
       "  1116.76,2890.09 1119.5,2890.1 1122.25,2890.11 1124.99,2890.13 1127.74,2890.14 1130.48,2890.15 1133.23,2890.16 1135.97,2890.17 1138.72,2890.18 1141.46,2890.19 \n",
       "  1144.21,2890.21 1146.95,2890.22 1149.69,2890.23 1152.44,2890.24 1155.18,2890.25 1157.93,2890.26 1160.67,2890.27 1163.42,2890.28 1166.16,2890.29 1168.91,2890.3 \n",
       "  1171.65,2890.31 1174.4,2890.32 1177.14,2890.33 1179.89,2890.34 1182.63,2890.35 1185.38,2890.36 1188.12,2890.37 1190.86,2890.38 1193.61,2890.39 1196.35,2890.4 \n",
       "  1199.1,2890.41 1201.84,2890.42 1204.59,2890.43 1207.33,2890.44 1210.08,2890.45 1212.82,2890.46 1215.57,2890.47 1218.31,2890.47 1221.06,2890.48 1223.8,2890.49 \n",
       "  1226.55,2890.5 1229.29,2890.51 1232.03,2890.52 1234.78,2890.53 1237.52,2890.54 1240.27,2890.54 1243.01,2890.55 1245.76,2890.56 1248.5,2890.57 1251.25,2890.58 \n",
       "  1253.99,2890.59 1256.74,2890.59 1259.48,2890.6 1262.23,2890.61 1264.97,2890.62 1267.72,2890.63 1270.46,2890.63 1273.21,2890.64 1275.95,2890.65 1278.69,2890.66 \n",
       "  1281.44,2890.66 1284.18,2890.67 1286.93,2890.68 1289.67,2890.69 1292.42,2890.69 1295.16,2890.7 1297.91,2890.71 1300.65,2890.72 1303.4,2890.72 1306.14,2890.73 \n",
       "  1308.89,2890.74 1311.63,2890.74 1314.38,2890.75 1317.12,2890.76 1319.86,2890.77 1322.61,2890.77 1325.35,2890.78 1328.1,2890.79 1330.84,2890.79 1333.59,2890.8 \n",
       "  1336.33,2890.81 1339.08,2890.81 1341.82,2890.82 1344.57,2890.83 1347.31,2890.83 1350.06,2890.84 1352.8,2890.84 1355.55,2890.85 1358.29,2890.86 1361.04,2890.86 \n",
       "  1363.78,2890.87 1366.52,2890.88 1369.27,2890.88 1372.01,2890.89 1374.76,2890.89 1377.5,2890.9 1380.25,2890.91 1382.99,2890.91 1385.74,2890.92 1388.48,2890.92 \n",
       "  1391.23,2890.93 1393.97,2890.93 1396.72,2890.94 1399.46,2890.95 1402.21,2890.95 1404.95,2890.96 1407.69,2890.96 1410.44,2890.97 1413.18,2890.97 1415.93,2890.98 \n",
       "  1418.67,2890.99 1421.42,2890.99 1424.16,2891 1426.91,2891 1429.65,2891.01 1432.4,2891.01 1435.14,2891.02 1437.89,2891.02 1440.63,2891.03 1443.38,2891.03 \n",
       "  1446.12,2891.04 1448.86,2891.04 1451.61,2891.05 1454.35,2891.05 1457.1,2891.06 1459.84,2891.06 1462.59,2891.07 1465.33,2891.07 1468.08,2891.08 1470.82,2891.08 \n",
       "  1473.57,2891.09 1476.31,2891.09 1479.06,2891.1 1481.8,2891.1 1484.55,2891.11 1487.29,2891.11 1490.04,2891.11 1492.78,2891.12 1495.52,2891.12 1498.27,2891.13 \n",
       "  1501.01,2891.13 1503.76,2891.14 1506.5,2891.14 1509.25,2891.15 1511.99,2891.15 1514.74,2891.16 1517.48,2891.16 1520.23,2891.16 1522.97,2891.17 1525.72,2891.17 \n",
       "  1528.46,2891.18 1531.21,2891.18 1533.95,2891.18 1536.69,2891.19 1539.44,2891.19 1542.18,2891.2 1544.93,2891.2 1547.67,2891.21 1550.42,2891.21 1553.16,2891.21 \n",
       "  1555.91,2891.22 1558.65,2891.22 1561.4,2891.23 1564.14,2891.23 1566.89,2891.23 1569.63,2891.24 1572.38,2891.24 1575.12,2891.25 1577.86,2891.25 1580.61,2891.25 \n",
       "  1583.35,2891.26 1586.1,2891.26 1588.84,2891.26 1591.59,2891.27 1594.33,2891.27 1597.08,2891.28 1599.82,2891.28 1602.57,2891.28 1605.31,2891.29 1608.06,2891.29 \n",
       "  1610.8,2891.29 1613.55,2891.3 1616.29,2891.3 1619.04,2891.3 1621.78,2891.31 1624.52,2891.31 1627.27,2891.31 1630.01,2891.32 1632.76,2891.32 1635.5,2891.32 \n",
       "  1638.25,2891.33 1640.99,2891.33 1643.74,2891.33 1646.48,2891.34 1649.23,2891.34 1651.97,2891.34 1654.72,2891.35 1657.46,2891.35 1660.21,2891.35 1662.95,2891.36 \n",
       "  1665.69,2891.36 1668.44,2891.36 1671.18,2891.37 1673.93,2891.37 1676.67,2891.37 1679.42,2891.38 1682.16,2891.38 1684.91,2891.38 1687.65,2891.39 1690.4,2891.39 \n",
       "  1693.14,2891.39 1695.89,2891.39 1698.63,2891.4 1701.38,2891.4 1704.12,2891.4 1706.86,2891.41 1709.61,2891.41 1712.35,2891.41 1715.1,2891.42 1717.84,2891.42 \n",
       "  1720.59,2891.42 1723.33,2891.42 1726.08,2891.43 1728.82,2891.43 1731.57,2891.43 1734.31,2891.44 1737.06,2891.44 1739.8,2891.44 1742.55,2891.44 1745.29,2891.45 \n",
       "  1748.04,2891.45 1750.78,2891.45 1753.52,2891.45 1756.27,2891.46 1759.01,2891.46 1761.76,2891.46 1764.5,2891.47 1767.25,2891.47 1769.99,2891.47 1772.74,2891.47 \n",
       "  1775.48,2891.48 1778.23,2891.48 1780.97,2891.48 1783.72,2891.48 1786.46,2891.49 1789.21,2891.49 1791.95,2891.49 1794.69,2891.49 1797.44,2891.5 1800.18,2891.5 \n",
       "  1802.93,2891.5 1805.67,2891.5 1808.42,2891.51 1811.16,2891.51 1813.91,2891.51 1816.65,2891.51 1819.4,2891.52 1822.14,2891.52 1824.89,2891.52 1827.63,2891.52 \n",
       "  1830.38,2891.53 1833.12,2891.53 1835.86,2891.53 1838.61,2891.53 1841.35,2891.53 1844.1,2891.54 1846.84,2891.54 1849.59,2891.54 1852.33,2891.54 1855.08,2891.55 \n",
       "  1857.82,2891.55 1860.57,2891.55 1863.31,2891.55 1866.06,2891.56 1868.8,2891.56 1871.55,2891.56 1874.29,2891.56 1877.04,2891.56 1879.78,2891.57 1882.52,2891.57 \n",
       "  1885.27,2891.57 1888.01,2891.57 1890.76,2891.57 1893.5,2891.58 1896.25,2891.58 1898.99,2891.58 1901.74,2891.58 1904.48,2891.59 1907.23,2891.59 1909.97,2891.59 \n",
       "  1912.72,2891.59 1915.46,2891.59 1918.21,2891.6 1920.95,2891.6 1923.69,2891.6 1926.44,2891.6 1929.18,2891.6 1931.93,2891.61 1934.67,2891.61 1937.42,2891.61 \n",
       "  1940.16,2891.61 1942.91,2891.61 1945.65,2891.62 1948.4,2891.62 1951.14,2891.62 1953.89,2891.62 1956.63,2891.62 1959.38,2891.62 1962.12,2891.63 1964.87,2891.63 \n",
       "  1967.61,2891.63 1970.35,2891.63 1973.1,2891.63 1975.84,2891.64 1978.59,2891.64 1981.33,2891.64 1984.08,2891.64 1986.82,2891.64 1989.57,2891.65 1992.31,2891.65 \n",
       "  1995.06,2891.65 1997.8,2891.65 2000.55,2891.65 2003.29,2891.65 2006.04,2891.66 2008.78,2891.66 2011.52,2891.66 2014.27,2891.66 2017.01,2891.66 2019.76,2891.66 \n",
       "  2022.5,2891.67 2025.25,2891.67 2027.99,2891.67 2030.74,2891.67 2033.48,2891.67 2036.23,2891.67 2038.97,2891.68 2041.72,2891.68 2044.46,2891.68 2047.21,2891.68 \n",
       "  2049.95,2891.68 2052.69,2891.68 2055.44,2891.69 2058.18,2891.69 2060.93,2891.69 2063.67,2891.69 2066.42,2891.69 2069.16,2891.69 2071.91,2891.7 2074.65,2891.7 \n",
       "  2077.4,2891.7 2080.14,2891.7 2082.89,2891.7 2085.63,2891.7 2088.38,2891.71 2091.12,2891.71 2093.87,2891.71 2096.61,2891.71 2099.35,2891.71 2102.1,2891.71 \n",
       "  2104.84,2891.71 2107.59,2891.72 2110.33,2891.72 2113.08,2891.72 2115.82,2891.72 2118.57,2891.72 2121.31,2891.72 2124.06,2891.72 2126.8,2891.73 2129.55,2891.73 \n",
       "  2132.29,2891.73 2135.04,2891.73 2137.78,2891.73 2140.52,2891.73 2143.27,2891.73 2146.01,2891.74 2148.76,2891.74 2151.5,2891.74 2154.25,2891.74 2156.99,2891.74 \n",
       "  2159.74,2891.74 2162.48,2891.74 2165.23,2891.75 2167.97,2891.75 2170.72,2891.75 2173.46,2891.75 2176.21,2891.75 2178.95,2891.75 2181.69,2891.75 2184.44,2891.76 \n",
       "  2187.18,2891.76 2189.93,2891.76 2192.67,2891.76 2195.42,2891.76 2198.16,2891.76 2200.91,2891.76 2203.65,2891.76 2206.4,2891.77 2209.14,2891.77 2211.89,2891.77 \n",
       "  2214.63,2891.77 2217.38,2891.77 2220.12,2891.77 2222.87,2891.77 2225.61,2891.78 2228.35,2891.78 2231.1,2891.78 2233.84,2891.78 2236.59,2891.78 2239.33,2891.78 \n",
       "  2242.08,2891.78 2244.82,2891.78 2247.57,2891.78 2250.31,2891.79 2253.06,2891.79 2255.8,2891.79 2258.55,2891.79 2261.29,2891.79 2264.04,2891.79 2266.78,2891.79 \n",
       "  2269.52,2891.79 2272.27,2891.8 2275.01,2891.8 2277.76,2891.8 2280.5,2891.8 2283.25,2891.8 2285.99,2891.8 2288.74,2891.8 2291.48,2891.8 2294.23,2891.81 \n",
       "  2296.97,2891.81 2299.72,2891.81 2302.46,2891.81 2305.21,2891.81 2307.95,2891.81 2310.69,2891.81 2313.44,2891.81 2316.18,2891.81 2318.93,2891.82 2321.67,2891.82 \n",
       "  2324.42,2891.82 2327.16,2891.82 2329.91,2891.82 2332.65,2891.82 2335.4,2891.82 2338.14,2891.82 2340.89,2891.82 2343.63,2891.82 2346.38,2891.83 2349.12,2891.83 \n",
       "  2351.87,2891.83 2354.61,2891.83 2357.35,2891.83 2360.1,2891.83 2362.84,2891.83 2365.59,2891.83 2368.33,2891.83 2371.08,2891.84 2373.82,2891.84 2376.57,2891.84 \n",
       "  2379.31,2891.84 2382.06,2891.84 2384.8,2891.84 2387.55,2891.84 2390.29,2891.84 2393.04,2891.84 2395.78,2891.84 2398.52,2891.85 2401.27,2891.85 2404.01,2891.85 \n",
       "  2406.76,2891.85 2409.5,2891.85 2412.25,2891.85 2414.99,2891.85 2417.74,2891.85 2420.48,2891.85 2423.23,2891.85 2425.97,2891.86 2428.72,2891.86 2431.46,2891.86 \n",
       "  2434.21,2891.86 2436.95,2891.86 2439.69,2891.86 2442.44,2891.86 2445.18,2891.86 2447.93,2891.86 2450.67,2891.86 2453.42,2891.86 2456.16,2891.87 2458.91,2891.87 \n",
       "  2461.65,2891.87 2464.4,2891.87 2467.14,2891.87 2469.89,2891.87 2472.63,2891.87 2475.38,2891.87 2478.12,2891.87 2480.87,2891.87 2483.61,2891.87 2486.35,2891.88 \n",
       "  2489.1,2891.88 2491.84,2891.88 2494.59,2891.88 2497.33,2891.88 2500.08,2891.88 2502.82,2891.88 2505.57,2891.88 2508.31,2891.88 2511.06,2891.88 2513.8,2891.88 \n",
       "  2516.55,2891.89 2519.29,2891.89 2522.04,2891.89 2524.78,2891.89 2527.52,2891.89 2530.27,2891.89 2533.01,2891.89 2535.76,2891.89 2538.5,2891.89 2541.25,2891.89 \n",
       "  2543.99,2891.89 2546.74,2891.89 2549.48,2891.9 2552.23,2891.9 2554.97,2891.9 2557.72,2891.9 2560.46,2891.9 2563.21,2891.9 2565.95,2891.9 2568.7,2891.9 \n",
       "  2571.44,2891.9 2574.18,2891.9 2576.93,2891.9 2579.67,2891.9 2582.42,2891.9 2585.16,2891.91 2587.91,2891.91 2590.65,2891.91 2593.4,2891.91 2596.14,2891.91 \n",
       "  2598.89,2891.91 2601.63,2891.91 2604.38,2891.91 2607.12,2891.91 2609.87,2891.91 2612.61,2891.91 2615.35,2891.91 2618.1,2891.91 2620.84,2891.92 2623.59,2891.92 \n",
       "  2626.33,2891.92 2629.08,2891.92 2631.82,2891.92 2634.57,2891.92 2637.31,2891.92 2640.06,2891.92 2642.8,2891.92 2645.55,2891.92 2648.29,2891.92 2651.04,2891.92 \n",
       "  2653.78,2891.92 2656.52,2891.93 2659.27,2891.93 2662.01,2891.93 2664.76,2891.93 2667.5,2891.93 2670.25,2891.93 2672.99,2891.93 2675.74,2891.93 2678.48,2891.93 \n",
       "  2681.23,2891.93 2683.97,2891.93 2686.72,2891.93 2689.46,2891.93 2692.21,2891.93 2694.95,2891.93 2697.7,2891.94 2700.44,2891.94 2703.18,2891.94 2705.93,2891.94 \n",
       "  2708.67,2891.94 2711.42,2891.94 2714.16,2891.94 2716.91,2891.94 2719.65,2891.94 2722.4,2891.94 2725.14,2891.94 2727.89,2891.94 2730.63,2891.94 2733.38,2891.94 \n",
       "  2736.12,2891.94 2738.87,2891.95 2741.61,2891.95 2744.35,2891.95 2747.1,2891.95 2749.84,2891.95 2752.59,2891.95 2755.33,2891.95 2758.08,2891.95 2760.82,2891.95 \n",
       "  2763.57,2891.95 2766.31,2891.95 2769.06,2891.95 2771.8,2891.95 2774.55,2891.95 2777.29,2891.95 2780.04,2891.96 2782.78,2891.96 2785.52,2891.96 2788.27,2891.96 \n",
       "  2791.01,2891.96 2793.76,2891.96 2796.5,2891.96 2799.25,2891.96 2801.99,2891.96 2804.74,2891.96 2807.48,2891.96 2810.23,2891.96 2812.97,2891.96 2815.72,2891.96 \n",
       "  2818.46,2891.96 2821.21,2891.96 2823.95,2891.96 2826.7,2891.97 2829.44,2891.97 2832.18,2891.97 2834.93,2891.97 2837.67,2891.97 2840.42,2891.97 2843.16,2891.97 \n",
       "  2845.91,2891.97 2848.65,2891.97 2851.4,2891.97 2854.14,2891.97 2856.89,2891.97 2859.63,2891.97 2862.38,2891.97 2865.12,2891.97 2867.87,2891.97 2870.61,2891.97 \n",
       "  2873.35,2891.98 2876.1,2891.98 2878.84,2891.98 2881.59,2891.98 2884.33,2891.98 2887.08,2891.98 2889.82,2891.98 2892.57,2891.98 2895.31,2891.98 2898.06,2891.98 \n",
       "  \n",
       "  \"/>\n",
       "<polygon clip-path=\"url(#clip3701)\" points=\"\n",
       "2577.61,206.931 2890.31,206.931 2890.31,176.691 2577.61,176.691 \n",
       "  \" fill=\"#ffffff\" fill-rule=\"evenodd\" fill-opacity=\"1\"/>\n",
       "<polyline clip-path=\"url(#clip3701)\" style=\"stroke:#000000; stroke-width:1; stroke-opacity:1; fill:none\" points=\"\n",
       "  2577.61,206.931 2890.31,206.931 2890.31,176.691 2577.61,176.691 2577.61,206.931 \n",
       "  \"/>\n",
       "<polyline clip-path=\"url(#clip3701)\" style=\"stroke:#009af9; stroke-width:1; stroke-opacity:1; fill:none\" points=\"\n",
       "  2607.61,191.811 2787.61,191.811 \n",
       "  \"/>\n",
       "<g clip-path=\"url(#clip3701)\">\n",
       "<text style=\"fill:#000000; fill-opacity:1; font-family:Arial,Helvetica Neue,Helvetica,sans-serif; font-size:12px; text-anchor:start;\" transform=\"rotate(0, 2817.61, 196.311)\" x=\"2817.61\" y=\"196.311\">y1</text>\n",
       "</g>\n",
       "</svg>\n"
      ]
     },
     "execution_count": 18,
     "metadata": {},
     "output_type": "execute_result"
    }
   ],
   "source": [
    "plot(x, y, size=(3000,3000))"
   ]
  }
 ],
 "metadata": {
  "kernelspec": {
   "display_name": "Julia 0.6.2",
   "language": "julia",
   "name": "julia-0.6"
  },
  "language_info": {
   "file_extension": ".jl",
   "mimetype": "application/julia",
   "name": "julia",
   "version": "0.6.2"
  }
 },
 "nbformat": 4,
 "nbformat_minor": 2
}
