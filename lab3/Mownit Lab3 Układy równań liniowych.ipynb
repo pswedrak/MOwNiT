{
 "cells": [
  {
   "cell_type": "code",
   "execution_count": 1,
   "metadata": {},
   "outputs": [],
   "source": [
    "import numpy as np\n",
    "from typing import Optional, Tuple"
   ]
  },
  {
   "cell_type": "markdown",
   "metadata": {},
   "source": [
    "Zadanie rozgrzewkowe:\n",
    "Napisać mnożenie macierzy w ulubionym języku programowania."
   ]
  },
  {
   "cell_type": "code",
   "execution_count": 2,
   "metadata": {},
   "outputs": [],
   "source": [
    "def agh_superfast_matrix_multiply(a: np.matrix, b: np.matrix) -> np.matrix:\n",
    "    \"\"\"Perform totally ordinary multiplication of matrices.\n",
    "    \n",
    "    :param a: matrix with dimensions n by m\n",
    "    :param b: matrix with dimensions m by p\n",
    "    :return:  matrix with dimensions n by p\n",
    "    \"\"\"\n",
    "    n = a.shape[0]\n",
    "    m_a = a.shape[1]\n",
    "    m_b = b.shape[0]\n",
    "    p = b.shape[1]\n",
    "    \n",
    "    if m_a != m_b:\n",
    "        raise Exception('Matrices a and b cannot be multipled')\n",
    "    \n",
    "    c = np.zeros((n, p))\n",
    "    \n",
    "    for i in range(0, n):\n",
    "        for j in range(0, p):\n",
    "            for k in range(0, m_a):\n",
    "                c[i, j] += a[i, k] * b[k, j]\n",
    "    return c                "
   ]
  },
  {
   "cell_type": "code",
   "execution_count": 3,
   "metadata": {},
   "outputs": [],
   "source": [
    "m1 = np.matrix([[1, 2],\n",
    "                [3, 4],\n",
    "                [4, 5],\n",
    "                [5, 1]])\n",
    "\n",
    "m2 = np.matrix([[1, 2, 3],\n",
    "                [4, 5, 6]])\n",
    "\n",
    "res = agh_superfast_matrix_multiply(m1, m2)\n",
    "assert np.allclose(res, m1 * m2), \"Wrong multiplication result\""
   ]
  },
  {
   "cell_type": "markdown",
   "metadata": {},
   "source": [
    "Napisać kod do eliminacji Gaussa bez pivotingu:"
   ]
  },
  {
   "cell_type": "code",
   "execution_count": 4,
   "metadata": {},
   "outputs": [],
   "source": [
    "def naive_gauss(a: np.matrix, b:np.matrix) -> np.matrix:\n",
    "    n = a.shape[0]\n",
    "    \n",
    "    for k in range(0, n-1):\n",
    "        for i in range(k+1, n):\n",
    "            for j in range(k, n):\n",
    "                a[i,j] -= (a[i,k]/a[k,k])*a[k,j]\n",
    "            b[i] -= (a[i,k]/a[k,k])*b[k]\n",
    "    \n",
    "    x = np.zeros(n)\n",
    "    for i in range(n-1,-1,-1):\n",
    "        _sum = 0\n",
    "        for j in range(i+1, n):\n",
    "            _sum += a[i,j] * x[j]\n",
    "        x[i] = (b[i] - _sum)/a[i,i]\n",
    "        \n",
    "    return np.matrix(x).transpose()\n"
   ]
  },
  {
   "cell_type": "code",
   "execution_count": 5,
   "metadata": {},
   "outputs": [
    {
     "data": {
      "text/plain": [
       "True"
      ]
     },
     "execution_count": 5,
     "metadata": {},
     "output_type": "execute_result"
    }
   ],
   "source": [
    "A = np.matrix([[0.0001, -5.0300, 5.8090, 7.8320],\n",
    "               [2.2660, 1.9950,  1.2120, 8.0080],\n",
    "               [8.8500, 5.6810,  4.5520, 1.3020],\n",
    "               [6.7750, -2.253,  2.9080, 3.9700]])\n",
    "\n",
    "b = np.matrix([9.5740, 7.2190, 5.7300, 6.2910]).transpose()\n",
    "\n",
    "x = naive_gauss(A, b)\n",
    "\n",
    "np.allclose(np.dot(A, x), b)"
   ]
  },
  {
   "cell_type": "markdown",
   "metadata": {},
   "source": [
    "Napisać kod do eliminacji Gaussa z pivotingiem:"
   ]
  },
  {
   "cell_type": "code",
   "execution_count": 6,
   "metadata": {},
   "outputs": [],
   "source": [
    "def pivoting_gauss(a: np.matrix, b:np.matrix) -> np.matrix:\n",
    "    n = a.shape[0]\n",
    "    s = np.zeros(n)\n",
    "    l = np.zeros(n, dtype=int)\n",
    "    x = np.zeros(n)   \n",
    "    \n",
    "    r = 0\n",
    "    rmax = 0\n",
    "    smax = 0\n",
    "    xmult = 0\n",
    "    _sum = 0\n",
    "    \n",
    "    for i in range(0, n):\n",
    "        l[i] = i\n",
    "        smax = 0\n",
    "        for j in range(0, n):\n",
    "            smax = max(smax, abs(a[i,j]))\n",
    "        s[i] = smax\n",
    "        \n",
    "    for k in range(0, n-1):\n",
    "        rmax = 0\n",
    "        for i in range(k, n):\n",
    "            r = abs(a[l[i], k] / s[l[i]])\n",
    "            if(r > rmax):\n",
    "                rmax = r\n",
    "                j = i\n",
    "        tmp = l[j]\n",
    "        l[j] = l[k]\n",
    "        l[k] = tmp\n",
    "        for i in range(k+1, n):\n",
    "            xmult = a[l[i], k]/a[l[k], k]\n",
    "            a[l[i], k] = xmult\n",
    "            for j in range(k+1, n):\n",
    "                a[l[i], j] = a[l[i], j] - (xmult)*a[l[k], j]\n",
    "                \n",
    "    for k in range(0, n):\n",
    "        for i in range(k+1, n):\n",
    "             b[l[i]] = b[l[i]] - a[l[i],k]*b[l[k]]\n",
    "        \n",
    "    x[n-1] = b[l[n-1]]/a[l[n-1], n-1]\n",
    "        \n",
    "    for i in range(n-1,-1,-1):\n",
    "        _sum = b[l[i]]\n",
    "        for j in range(i+1, n):\n",
    "             _sum = _sum - a[l[i],j]*x[j]\n",
    "        x[i] = _sum/a[l[i],i]\n",
    "    \n",
    "    return np.matrix(x).transpose()"
   ]
  },
  {
   "cell_type": "code",
   "execution_count": 7,
   "metadata": {},
   "outputs": [
    {
     "data": {
      "text/plain": [
       "True"
      ]
     },
     "execution_count": 7,
     "metadata": {},
     "output_type": "execute_result"
    }
   ],
   "source": [
    "A = np.matrix([[0.0001, -5.0300, 5.8090, 7.8320],\n",
    "               [2.2660, 1.9950,  1.2120, 8.0080],\n",
    "               [8.8500, 5.6810,  4.5520, 1.3020],\n",
    "               [6.7750, -2.253,  2.9080, 3.9700]])\n",
    "\n",
    "b = np.matrix([9.5740, 7.2190, 5.7300, 6.2910]).transpose()\n",
    "\n",
    "_x = np.linalg.solve(A, b)\n",
    "x = pivoting_gauss(A, b)\n",
    "\n",
    "np.allclose(_x, x)"
   ]
  },
  {
   "cell_type": "markdown",
   "metadata": {},
   "source": [
    "Zaimplementować algorytm faktoryzacji LU macierzy"
   ]
  },
  {
   "cell_type": "code",
   "execution_count": 47,
   "metadata": {},
   "outputs": [],
   "source": [
    "def agh_superfast_lu(a: np.matrix) -> Optional[Tuple[np.matrix, np.matrix]]:\n",
    "    \"\"\"Perform LU decomposition of a matrix.\n",
    "    \n",
    "    :param a: matrix n x n\n",
    "    :return:  tuple(l, u): l -> lower diagonal matrix, u -> upper diagonal matrix\n",
    "    \"\"\"\n",
    "    n = a.shape[0]\n",
    "    l = np.zeros((n,n))\n",
    "    u = np.zeros((n,n))\n",
    "    \n",
    "    for k in range(0, n):\n",
    "        l[k,k] = 1\n",
    "        for j in range(k, n):\n",
    "            sum = 0\n",
    "            for s in range(0, k):\n",
    "                sum = sum + l[k,s]*u[s,j]\n",
    "            u[k,j] = a[k,j] - sum\n",
    "            \n",
    "        for i in range(k+1, n):\n",
    "            sum = 0\n",
    "            for s in range(0, k):\n",
    "                sum = sum + l[i,s]*u[s,k]\n",
    "            if(u[k,k] != 0):\n",
    "                l[i,k] = (a[i,k] - sum)/u[k,k]\n",
    "            else:\n",
    "                return None\n",
    "                    \n",
    "    return (l, u)\n",
    "            "
   ]
  },
  {
   "cell_type": "code",
   "execution_count": 48,
   "metadata": {},
   "outputs": [],
   "source": [
    "a = np.matrix([[5.0, 3.0, 2.0],\n",
    "               [1.0, 2.0, 0.0],\n",
    "               [3.0, 0.0, 4.0]])"
   ]
  },
  {
   "cell_type": "code",
   "execution_count": 53,
   "metadata": {},
   "outputs": [
    {
     "name": "stdout",
     "output_type": "stream",
     "text": [
      "True\n"
     ]
    }
   ],
   "source": [
    "x = agh_superfast_lu(a)\n",
    "if(x != None):\n",
    "    (l, u) = x\n",
    "    print(np.allclose(a, agh_superfast_matrix_multiply(l, u)))\n",
    "else:\n",
    "    print(\"The matrix does not have the LU decomposition\")"
   ]
  },
  {
   "cell_type": "markdown",
   "metadata": {},
   "source": [
    "Zaimplementować algorytm faktoryzacji Cholesky'ego macierzy"
   ]
  },
  {
   "cell_type": "code",
   "execution_count": 76,
   "metadata": {},
   "outputs": [],
   "source": [
    "def agh_superfast_cholesky(a: np.matrix) -> Optional[np.matrix]:\n",
    "    \"\"\"Perform a Cholesky decomposition of a matrix.\n",
    "    \n",
    "    :param a: matrix n x n\n",
    "    :return: l: l*l^t = a, l:lower triangular with a positive diagonal\n",
    "    \"\"\"\n",
    "    n = a.shape[0]\n",
    "    l = np.zeros((n,n))\n",
    "    \n",
    "    for k in range(0, n):\n",
    "        sum = 0\n",
    "        for s in range(0, k):\n",
    "            sum = sum + l[k,s]**2\n",
    "        l[k,k] = (a[k,k] - sum)**(1/2)\n",
    "        \n",
    "        for i in range(k+1, n):\n",
    "            sum = 0\n",
    "            for s in range(0, k):\n",
    "                sum = sum + l[i,s]*l[k,s]\n",
    "            l[i,k] = (a[i,k] - sum)/l[k,k]\n",
    "    \n",
    "    return l"
   ]
  },
  {
   "cell_type": "code",
   "execution_count": 77,
   "metadata": {},
   "outputs": [],
   "source": [
    "a = np.matrix([[4.0, 3.0, 2.0, 1.0],\n",
    "               [3.0, 3.0, 2.0, 1.0],\n",
    "               [2.0, 2.0, 2.0, 1.0],\n",
    "               [1.0, 1.0, 1.0, 1.0]])"
   ]
  },
  {
   "cell_type": "code",
   "execution_count": 78,
   "metadata": {},
   "outputs": [
    {
     "name": "stdout",
     "output_type": "stream",
     "text": [
      "[[2.         0.         0.         0.        ]\n",
      " [1.5        0.8660254  0.         0.        ]\n",
      " [1.         0.57735027 0.81649658 0.        ]\n",
      " [0.5        0.28867513 0.40824829 0.70710678]]\n",
      "[[2.         1.5        1.         0.5       ]\n",
      " [0.         0.8660254  0.57735027 0.28867513]\n",
      " [0.         0.         0.81649658 0.40824829]\n",
      " [0.         0.         0.         0.70710678]]\n"
     ]
    }
   ],
   "source": [
    "l = agh_superfast_cholesky(a)\n",
    "print(l)\n",
    "print(l.transpose())"
   ]
  },
  {
   "cell_type": "code",
   "execution_count": 79,
   "metadata": {},
   "outputs": [
    {
     "name": "stdout",
     "output_type": "stream",
     "text": [
      "True\n"
     ]
    }
   ],
   "source": [
    "print(np.allclose(a, agh_superfast_matrix_multiply(l, l.transpose())))"
   ]
  }
 ],
 "metadata": {
  "kernelspec": {
   "display_name": "Python 3",
   "language": "python",
   "name": "python3"
  },
  "language_info": {
   "codemirror_mode": {
    "name": "ipython",
    "version": 3
   },
   "file_extension": ".py",
   "mimetype": "text/x-python",
   "name": "python",
   "nbconvert_exporter": "python",
   "pygments_lexer": "ipython3",
   "version": "3.7.0"
  }
 },
 "nbformat": 4,
 "nbformat_minor": 2
}
