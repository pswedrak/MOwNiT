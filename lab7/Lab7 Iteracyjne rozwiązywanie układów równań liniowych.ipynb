{
 "cells": [
  {
   "cell_type": "code",
   "execution_count": 1,
   "metadata": {},
   "outputs": [],
   "source": [
    "#struktury ; jedno\n",
    "#iteracyjne ; trzy"
   ]
  },
  {
   "cell_type": "code",
   "execution_count": 8,
   "metadata": {},
   "outputs": [],
   "source": [
    "import numpy as np"
   ]
  },
  {
   "cell_type": "markdown",
   "metadata": {},
   "source": [
    "1. Metoda Newtona znajdowania zer funkcji rzeczywistych."
   ]
  },
  {
   "cell_type": "code",
   "execution_count": 1,
   "metadata": {},
   "outputs": [],
   "source": [
    "def newton_raphson(f, df, x, nmax, eps, omg):\n",
    "    fx = f(x)\n",
    "    for n in range(0, nmax):\n",
    "        fp = df(x)\n",
    "        if(abs(fp) < omg):\n",
    "            print(\"small derivative\")\n",
    "            return\n",
    "        d = fx/fp\n",
    "        x = x - d\n",
    "        fx = f(x)\n",
    "        print(n, x, fx)\n",
    "        if(abs(d) < eps):\n",
    "            print(\"convergence\")\n",
    "            return"
   ]
  },
  {
   "cell_type": "code",
   "execution_count": 5,
   "metadata": {},
   "outputs": [],
   "source": [
    "f = lambda x:  x**5 + 4*x**4 - 2*x**3 - 17\n",
    "df = lambda x: 5*x**4 + 16*x**3 - 6*x**2"
   ]
  },
  {
   "cell_type": "code",
   "execution_count": 6,
   "metadata": {},
   "outputs": [
    {
     "name": "stdout",
     "output_type": "stream",
     "text": [
      "0 1.9333333333333333 51.44175670781894\n",
      "1 1.6178368465037598 13.017424422434942\n",
      "2 1.467000689987531 2.006152575260618\n",
      "3 1.4339824053476466 0.07959835449666741\n",
      "4 1.4325605853145769 0.0001418648515851828\n",
      "5 1.4325580422024418 4.530846808847855e-10\n",
      "convergence\n"
     ]
    }
   ],
   "source": [
    "newton_raphson(f, df, 1, 10, 0.0001, 0.0001)"
   ]
  },
  {
   "cell_type": "markdown",
   "metadata": {},
   "source": [
    "2. Metoda Jacobiego iteracyjnego rozwiązywania układów równań liniowych."
   ]
  },
  {
   "cell_type": "code",
   "execution_count": 59,
   "metadata": {},
   "outputs": [],
   "source": [
    "def jacobi(A: np.matrix, b: np.matrix, x: np.matrix):\n",
    "    maxIter = 20\n",
    "    omg = 10**(-10)\n",
    "    n = A.shape[0]\n",
    "    \n",
    "    for k in range(0, maxIter):\n",
    "        y = x\n",
    "        for i in range(0, n):\n",
    "            sum = b[i]\n",
    "            diag = A[i, i]\n",
    "            if(abs(diag) < omg):\n",
    "                print(\"diagonal element too small\")\n",
    "                return\n",
    "            for j in range(0, n):\n",
    "                if i != j:\n",
    "                    sum -= A[i,j]*y[j]\n",
    "            x[i] = sum/diag\n",
    "        print(k, x)\n",
    "    "
   ]
  },
  {
   "cell_type": "code",
   "execution_count": 60,
   "metadata": {},
   "outputs": [],
   "source": [
    "A = np.matrix([[2.0, -1.0, 0.0],\n",
    "              [-1.0, 3.0, -1.0],\n",
    "              [0.0 ,-1.0, 2.0]])\n",
    "b = np.matrix([1.0, 8.0, -5.0]).transpose()\n",
    "x = np.matrix([0.0, 0.0, 0.0]).transpose()"
   ]
  },
  {
   "cell_type": "code",
   "execution_count": 61,
   "metadata": {},
   "outputs": [
    {
     "name": "stdout",
     "output_type": "stream",
     "text": [
      "0 [[ 0.5       ]\n",
      " [ 2.83333333]\n",
      " [-1.08333333]]\n",
      "1 [[1.91666667]\n",
      " [3.11111111]\n",
      " [0.47222222]]\n",
      "2 [[3.47222222]\n",
      " [4.42592593]\n",
      " [2.68518519]]\n",
      "3 [[5.68518519]\n",
      " [7.21604938]\n",
      " [6.29320988]]\n",
      "4 [[ 9.29320988]\n",
      " [12.41152263]\n",
      " [12.49897119]]\n",
      "5 [[15.49897119]\n",
      " [21.7441701 ]\n",
      " [23.37105624]]\n",
      "6 [[26.37105624]\n",
      " [38.32487426]\n",
      " [42.53349337]]\n",
      "7 [[45.53349337]\n",
      " [67.6805365 ]\n",
      " [76.37376162]]\n",
      "8 [[ 79.37376162]\n",
      " [119.59637758]\n",
      " [136.17195041]]\n",
      "9 [[139.17195041]\n",
      " [211.37767786]\n",
      " [241.86078934]]\n",
      "10 [[244.86078934]\n",
      " [373.61820409]\n",
      " [428.66989139]]\n",
      "11 [[431.66989139]\n",
      " [660.39813168]\n",
      " [758.86895723]]\n",
      "12 [[ 761.86895723]\n",
      " [1167.31076984]\n",
      " [1342.52434215]]\n",
      "13 [[1345.52434215]\n",
      " [2063.32699794]\n",
      " [2374.18784112]]\n",
      "14 [[2377.18784112]\n",
      " [3647.11889202]\n",
      " [4197.74728713]]\n",
      "15 [[4200.74728713]\n",
      " [6446.61708344]\n",
      " [7421.05582885]]\n",
      "16 [[ 7424.05582885]\n",
      " [11394.987636  ]\n",
      " [13118.54964685]]\n",
      "17 [[13121.54964685]\n",
      " [20141.68740056]\n",
      " [23189.39334713]]\n",
      "18 [[23192.39334713]\n",
      " [35602.28296532]\n",
      " [40990.53482979]]\n",
      "19 [[40993.53482979]\n",
      " [62930.30618517]\n",
      " [72455.68792237]]\n"
     ]
    }
   ],
   "source": [
    "jacobi(A, b, x)"
   ]
  },
  {
   "cell_type": "code",
   "execution_count": null,
   "metadata": {},
   "outputs": [],
   "source": []
  }
 ],
 "metadata": {
  "kernelspec": {
   "display_name": "Python 3",
   "language": "python",
   "name": "python3"
  },
  "language_info": {
   "codemirror_mode": {
    "name": "ipython",
    "version": 3
   },
   "file_extension": ".py",
   "mimetype": "text/x-python",
   "name": "python",
   "nbconvert_exporter": "python",
   "pygments_lexer": "ipython3",
   "version": "3.7.0"
  }
 },
 "nbformat": 4,
 "nbformat_minor": 2
}
