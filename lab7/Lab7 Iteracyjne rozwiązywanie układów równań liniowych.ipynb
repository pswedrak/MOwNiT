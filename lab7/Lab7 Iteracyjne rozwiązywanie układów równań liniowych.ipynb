{
 "cells": [
  {
   "cell_type": "code",
   "execution_count": 3,
   "metadata": {},
   "outputs": [],
   "source": [
    "#struktury ; jedno\n",
    "#iteracyjne ; trzy"
   ]
  },
  {
   "cell_type": "code",
   "execution_count": 4,
   "metadata": {},
   "outputs": [],
   "source": [
    "import numpy as np"
   ]
  },
  {
   "cell_type": "markdown",
   "metadata": {},
   "source": [
    "Rzadkie wektory i macierze:\n",
    "1. Zaimplementować struktury danych przechowujące rzadkie wektory i macierze (format dowolny)\n",
    "2. Zaimplementować podstawowe operacje na wektorach (dodawanie, mnożenie przez skalar, przez wektor)"
   ]
  },
  {
   "cell_type": "code",
   "execution_count": 219,
   "metadata": {},
   "outputs": [],
   "source": [
    "class SparseVector:\n",
    "    def __init__(self, I: list, V: list, N: int):\n",
    "        self.I = I\n",
    "        self.V = V\n",
    "        self.N = N\n",
    "    \n",
    "    def transformToNumpyMatrix(self):\n",
    "        A = np.zeros(self.N)\n",
    "        for i in range(0, len(self.I)):\n",
    "            A[self.I[i]] = self.V[i]\n",
    "        return A"
   ]
  },
  {
   "cell_type": "code",
   "execution_count": 220,
   "metadata": {},
   "outputs": [],
   "source": [
    "I1 = [3, 4, 6]\n",
    "V1 = [3.4, 5.6, 6.7]\n",
    "N = 10"
   ]
  },
  {
   "cell_type": "code",
   "execution_count": 221,
   "metadata": {},
   "outputs": [
    {
     "data": {
      "text/plain": [
       "array([0. , 0. , 0. , 3.4, 5.6, 0. , 6.7, 0. , 0. , 0. ])"
      ]
     },
     "execution_count": 221,
     "metadata": {},
     "output_type": "execute_result"
    }
   ],
   "source": [
    "sparse1 = SparseVector(I1, V1, N)\n",
    "A = sparse1.transformToNumpyMatrix()\n",
    "A"
   ]
  },
  {
   "cell_type": "code",
   "execution_count": 222,
   "metadata": {},
   "outputs": [],
   "source": [
    "I2 = [1, 4, 7]\n",
    "V2 = [-5.4, 1.6, 6.7]"
   ]
  },
  {
   "cell_type": "code",
   "execution_count": 223,
   "metadata": {},
   "outputs": [
    {
     "data": {
      "text/plain": [
       "array([ 0. , -5.4,  0. ,  0. ,  1.6,  0. ,  0. ,  6.7,  0. ,  0. ])"
      ]
     },
     "execution_count": 223,
     "metadata": {},
     "output_type": "execute_result"
    }
   ],
   "source": [
    "sparse2 = SparseVector(I2, V2, N)\n",
    "B = sparse2.transformToNumpyMatrix()\n",
    "B"
   ]
  },
  {
   "cell_type": "code",
   "execution_count": 224,
   "metadata": {},
   "outputs": [],
   "source": [
    "def multiplyByScalar(a: SparseVector, b:float):\n",
    "    for i in range(0, len(a.I)):\n",
    "        a.V[i] = a.V[i] * b"
   ]
  },
  {
   "cell_type": "code",
   "execution_count": 225,
   "metadata": {},
   "outputs": [
    {
     "data": {
      "text/plain": [
       "array([ 0. ,  0. ,  0. , 13.6, 22.4,  0. , 26.8,  0. ,  0. ,  0. ])"
      ]
     },
     "execution_count": 225,
     "metadata": {},
     "output_type": "execute_result"
    }
   ],
   "source": [
    "multiplyByScalar(sparse1, 4)\n",
    "A = sparse1.transformToNumpyMatrix()\n",
    "A"
   ]
  },
  {
   "cell_type": "code",
   "execution_count": 228,
   "metadata": {},
   "outputs": [],
   "source": [
    "def addSparseVectors(a: SparseVector, b: SparseVector) -> SparseVector:\n",
    "    C = SparseVector([], [], a.N)\n",
    "    \n",
    "    for i in range(0, len(a.I)):\n",
    "        value = a.V[i]\n",
    "        for j in range(0, len(a.I)):\n",
    "            if (a.I[i] == b.I[j]):\n",
    "                value = value + b.V[j]\n",
    "        C.I.append(a.I[i])\n",
    "        C.V.append(value)\n",
    "    \n",
    "    for i in range(0, len(a.I)):\n",
    "        value = b.V[i]\n",
    "        for j in range(0, len(a.I)):\n",
    "            if (a.I[i] == b.I[j]):\n",
    "                value = value + a.V[j]\n",
    "        if i not in C.I:\n",
    "            C.I.append(b.I[i])\n",
    "            C.V.append(value)\n",
    "    return C"
   ]
  },
  {
   "cell_type": "code",
   "execution_count": 229,
   "metadata": {},
   "outputs": [
    {
     "data": {
      "text/plain": [
       "array([ 0. , -5.4,  0. , 13.6, 24. ,  0. , 26.8,  6.7,  0. ,  0. ])"
      ]
     },
     "execution_count": 229,
     "metadata": {},
     "output_type": "execute_result"
    }
   ],
   "source": [
    "sparseSum = addSparseVectors(sparse1, sparse2)\n",
    "sparseSum.transformToNumpyMatrix()"
   ]
  },
  {
   "cell_type": "markdown",
   "metadata": {},
   "source": [
    "Iteracyjne rozwiązywanie układów równań liniowych:\n",
    "1. Metoda Newtona znajdowania zer funkcji rzeczywistych."
   ]
  },
  {
   "cell_type": "code",
   "execution_count": 12,
   "metadata": {},
   "outputs": [],
   "source": [
    "def newton_raphson(f, df, x, nmax, eps, omg):\n",
    "    fx = f(x)\n",
    "    for n in range(0, nmax):\n",
    "        fp = df(x)\n",
    "        if(abs(fp) < omg):\n",
    "            print(\"small derivative\")\n",
    "            return\n",
    "        d = fx/fp\n",
    "        x = x - d\n",
    "        fx = f(x)\n",
    "        print(n, x, fx)\n",
    "        if(abs(d) < eps):\n",
    "            print(\"convergence\")\n",
    "            return"
   ]
  },
  {
   "cell_type": "code",
   "execution_count": 13,
   "metadata": {},
   "outputs": [],
   "source": [
    "f = lambda x:  x**5 + 4*x**4 - 2*x**3 - 17\n",
    "df = lambda x: 5*x**4 + 16*x**3 - 6*x**2"
   ]
  },
  {
   "cell_type": "code",
   "execution_count": 14,
   "metadata": {},
   "outputs": [
    {
     "name": "stdout",
     "output_type": "stream",
     "text": [
      "0 1.9333333333333333 51.44175670781894\n",
      "1 1.6178368465037598 13.017424422434942\n",
      "2 1.467000689987531 2.006152575260618\n",
      "3 1.4339824053476466 0.07959835449666741\n",
      "4 1.4325605853145769 0.0001418648515851828\n",
      "5 1.4325580422024418 4.530846808847855e-10\n",
      "convergence\n"
     ]
    }
   ],
   "source": [
    "newton_raphson(f, df, 1, 10, 0.0001, 0.0001)"
   ]
  },
  {
   "cell_type": "markdown",
   "metadata": {},
   "source": [
    "2. Metoda Jacobiego iteracyjnego rozwiązywania układów równań liniowych."
   ]
  },
  {
   "cell_type": "code",
   "execution_count": 15,
   "metadata": {},
   "outputs": [],
   "source": [
    "def jacobi(A: np.matrix, b: np.matrix, x: np.matrix):\n",
    "    maxIter = 100\n",
    "    omg = 10**(-10)\n",
    "    n = A.shape[0]\n",
    "\n",
    "    for k in range(0, maxIter):\n",
    "        y = x\n",
    "        for i in range(0, n):\n",
    "            sum = b[i]\n",
    "            diag = A[i, i]\n",
    "            if(abs(diag) < omg):\n",
    "                print(\"diagonal element too small\")\n",
    "                return\n",
    "            for j in range(0, n):\n",
    "                if i != j:\n",
    "                    sum = sum -  A[i,j]*y[j]\n",
    "            x[i] = sum/diag"
   ]
  },
  {
   "cell_type": "code",
   "execution_count": 16,
   "metadata": {},
   "outputs": [],
   "source": [
    "A = np.matrix([[2.0, -1.0, 0.0],\n",
    "              [-1.0, 3.0, -1.0],\n",
    "              [0.0 ,-1.0, 2.0]])\n",
    "b = np.matrix([[1.0],\n",
    "               [8.0],\n",
    "               [-5.0]])\n",
    "x = np.matrix([[0.0], \n",
    "               [0.0], \n",
    "               [0.0]])"
   ]
  },
  {
   "cell_type": "code",
   "execution_count": 17,
   "metadata": {},
   "outputs": [],
   "source": [
    "jacobi(A, b, x)"
   ]
  },
  {
   "cell_type": "code",
   "execution_count": 18,
   "metadata": {},
   "outputs": [
    {
     "data": {
      "text/plain": [
       "True"
      ]
     },
     "execution_count": 18,
     "metadata": {},
     "output_type": "execute_result"
    }
   ],
   "source": [
    "np.allclose(x, np.linalg.solve(A,b))"
   ]
  },
  {
   "cell_type": "markdown",
   "metadata": {},
   "source": [
    "3. Przetestować powyższą metodę dla wygenerowanych macierzy (2x2, 3x3, 4x4) i sprawdzić jej poprawność."
   ]
  },
  {
   "cell_type": "code",
   "execution_count": 19,
   "metadata": {},
   "outputs": [],
   "source": [
    "A2 = np.random.randint(1, 100, (2, 2))\n",
    "B2 = np.random.randint(1, 100, 2)\n",
    "X2 = np.zeros(2)"
   ]
  },
  {
   "cell_type": "code",
   "execution_count": 20,
   "metadata": {},
   "outputs": [
    {
     "data": {
      "text/plain": [
       "True"
      ]
     },
     "execution_count": 20,
     "metadata": {},
     "output_type": "execute_result"
    }
   ],
   "source": [
    "jacobi(A2, B2, X2)\n",
    "np.allclose(X2, np.linalg.solve(A2, B2))"
   ]
  },
  {
   "cell_type": "code",
   "execution_count": 21,
   "metadata": {},
   "outputs": [],
   "source": [
    "A3 = np.random.randint(1, 100, (3, 3))\n",
    "B3 = np.random.randint(1, 100, 3)\n",
    "X3 = np.zeros(3)"
   ]
  },
  {
   "cell_type": "code",
   "execution_count": 22,
   "metadata": {},
   "outputs": [
    {
     "data": {
      "text/plain": [
       "False"
      ]
     },
     "execution_count": 22,
     "metadata": {},
     "output_type": "execute_result"
    }
   ],
   "source": [
    "jacobi(A3, B3, X3)\n",
    "np.allclose(X3, np.linalg.solve(A3, B3))"
   ]
  },
  {
   "cell_type": "code",
   "execution_count": 23,
   "metadata": {},
   "outputs": [],
   "source": [
    "A4 = np.random.randint(1, 100, (4, 4))\n",
    "B4 = np.random.randint(1, 100, 4)\n",
    "X4 = np.zeros(4)"
   ]
  },
  {
   "cell_type": "code",
   "execution_count": 24,
   "metadata": {},
   "outputs": [
    {
     "data": {
      "text/plain": [
       "False"
      ]
     },
     "execution_count": 24,
     "metadata": {},
     "output_type": "execute_result"
    }
   ],
   "source": [
    "jacobi(A4, B4, X4)\n",
    "np.allclose(X4, np.linalg.solve(A4, B4))"
   ]
  },
  {
   "cell_type": "markdown",
   "metadata": {},
   "source": [
    "Metoda Jacobiego jest zbieżna tylko dla macierzy o dominującej przekątnej."
   ]
  }
 ],
 "metadata": {
  "kernelspec": {
   "display_name": "Python 3",
   "language": "python",
   "name": "python3"
  },
  "language_info": {
   "codemirror_mode": {
    "name": "ipython",
    "version": 3
   },
   "file_extension": ".py",
   "mimetype": "text/x-python",
   "name": "python",
   "nbconvert_exporter": "python",
   "pygments_lexer": "ipython3",
   "version": "3.7.0"
  }
 },
 "nbformat": 4,
 "nbformat_minor": 2
}
